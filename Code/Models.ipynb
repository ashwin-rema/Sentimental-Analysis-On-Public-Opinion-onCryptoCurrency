{
  "nbformat": 4,
  "nbformat_minor": 0,
  "metadata": {
    "colab": {
      "provenance": []
    },
    "kernelspec": {
      "name": "python3",
      "display_name": "Python 3"
    },
    "language_info": {
      "name": "python"
    },
    "gpuClass": "standard"
  },
  "cells": [
    {
      "cell_type": "code",
      "source": [
        "!pip install transformers"
      ],
      "metadata": {
        "colab": {
          "base_uri": "https://localhost:8080/"
        },
        "id": "su1qdnq4pXU8",
        "outputId": "4e5ff8b6-732b-4843-fa45-9945b8fc222e"
      },
      "execution_count": null,
      "outputs": [
        {
          "output_type": "stream",
          "name": "stdout",
          "text": [
            "Looking in indexes: https://pypi.org/simple, https://us-python.pkg.dev/colab-wheels/public/simple/\n",
            "Collecting transformers\n",
            "  Downloading transformers-4.24.0-py3-none-any.whl (5.5 MB)\n",
            "\u001b[K     |████████████████████████████████| 5.5 MB 4.3 MB/s \n",
            "\u001b[?25hRequirement already satisfied: filelock in /usr/local/lib/python3.7/dist-packages (from transformers) (3.8.0)\n",
            "Requirement already satisfied: tqdm>=4.27 in /usr/local/lib/python3.7/dist-packages (from transformers) (4.64.1)\n",
            "Requirement already satisfied: regex!=2019.12.17 in /usr/local/lib/python3.7/dist-packages (from transformers) (2022.6.2)\n",
            "Requirement already satisfied: packaging>=20.0 in /usr/local/lib/python3.7/dist-packages (from transformers) (21.3)\n",
            "Collecting huggingface-hub<1.0,>=0.10.0\n",
            "  Downloading huggingface_hub-0.10.1-py3-none-any.whl (163 kB)\n",
            "\u001b[K     |████████████████████████████████| 163 kB 54.1 MB/s \n",
            "\u001b[?25hRequirement already satisfied: numpy>=1.17 in /usr/local/lib/python3.7/dist-packages (from transformers) (1.21.6)\n",
            "Requirement already satisfied: importlib-metadata in /usr/local/lib/python3.7/dist-packages (from transformers) (4.13.0)\n",
            "Requirement already satisfied: requests in /usr/local/lib/python3.7/dist-packages (from transformers) (2.23.0)\n",
            "Requirement already satisfied: pyyaml>=5.1 in /usr/local/lib/python3.7/dist-packages (from transformers) (6.0)\n",
            "Collecting tokenizers!=0.11.3,<0.14,>=0.11.1\n",
            "  Downloading tokenizers-0.13.1-cp37-cp37m-manylinux_2_17_x86_64.manylinux2014_x86_64.whl (7.6 MB)\n",
            "\u001b[K     |████████████████████████████████| 7.6 MB 22.0 MB/s \n",
            "\u001b[?25hRequirement already satisfied: typing-extensions>=3.7.4.3 in /usr/local/lib/python3.7/dist-packages (from huggingface-hub<1.0,>=0.10.0->transformers) (4.1.1)\n",
            "Requirement already satisfied: pyparsing!=3.0.5,>=2.0.2 in /usr/local/lib/python3.7/dist-packages (from packaging>=20.0->transformers) (3.0.9)\n",
            "Requirement already satisfied: zipp>=0.5 in /usr/local/lib/python3.7/dist-packages (from importlib-metadata->transformers) (3.10.0)\n",
            "Requirement already satisfied: urllib3!=1.25.0,!=1.25.1,<1.26,>=1.21.1 in /usr/local/lib/python3.7/dist-packages (from requests->transformers) (1.24.3)\n",
            "Requirement already satisfied: certifi>=2017.4.17 in /usr/local/lib/python3.7/dist-packages (from requests->transformers) (2022.9.24)\n",
            "Requirement already satisfied: idna<3,>=2.5 in /usr/local/lib/python3.7/dist-packages (from requests->transformers) (2.10)\n",
            "Requirement already satisfied: chardet<4,>=3.0.2 in /usr/local/lib/python3.7/dist-packages (from requests->transformers) (3.0.4)\n",
            "Installing collected packages: tokenizers, huggingface-hub, transformers\n",
            "Successfully installed huggingface-hub-0.10.1 tokenizers-0.13.1 transformers-4.24.0\n"
          ]
        }
      ]
    },
    {
      "cell_type": "code",
      "source": [
        "import torch"
      ],
      "metadata": {
        "id": "veu7M9OVpViS"
      },
      "execution_count": null,
      "outputs": []
    },
    {
      "cell_type": "code",
      "execution_count": null,
      "metadata": {
        "id": "LXftf9oryUFa"
      },
      "outputs": [],
      "source": [
        "import pandas as pd\n",
        "import numpy as np\n",
        "from sklearn.feature_extraction.text import TfidfVectorizer\n",
        "from sklearn.feature_extraction.text import CountVectorizer\n",
        "from sklearn.model_selection import train_test_split"
      ]
    },
    {
      "cell_type": "code",
      "source": [
        "from transformers import AutoTokenizer, AutoModelForSequenceClassification\n",
        "from scipy.special import softmax"
      ],
      "metadata": {
        "id": "kG_vnU96rg47"
      },
      "execution_count": null,
      "outputs": []
    },
    {
      "cell_type": "code",
      "source": [
        "from textblob import Word\n",
        "from collections import Counter\n",
        "import wordcloud\n",
        "from sklearn.preprocessing import LabelEncoder\n",
        "import matplotlib.pyplot as plt\n",
        "import pickle"
      ],
      "metadata": {
        "id": "2T6FDiMJb09c"
      },
      "execution_count": null,
      "outputs": []
    },
    {
      "cell_type": "code",
      "source": [
        "from keras.models import Sequential\n",
        "from keras.layers import Dense, Embedding, LSTM, SpatialDropout1D\n",
        "from keras.utils import to_categorical\n",
        "from keras.preprocessing.text import Tokenizer\n",
        "from keras_preprocessing.sequence import pad_sequences"
      ],
      "metadata": {
        "id": "rJEAIa8tc6gT"
      },
      "execution_count": null,
      "outputs": []
    },
    {
      "cell_type": "code",
      "source": [
        "from sklearn import svm\n",
        "from sklearn.naive_bayes import MultinomialNB\n",
        "from sklearn.linear_model import LogisticRegression\n",
        "from sklearn.metrics import classification_report\n",
        "from xgboost import XGBClassifier\n",
        "from sklearn.tree import DecisionTreeClassifier"
      ],
      "metadata": {
        "id": "Q2JM1tWK1ch8"
      },
      "execution_count": null,
      "outputs": []
    },
    {
      "cell_type": "code",
      "source": [
        "from sklearn.metrics import recall_score, precision_score,accuracy_score,confusion_matrix,f1_score"
      ],
      "metadata": {
        "id": "oOiLrFovT_U_"
      },
      "execution_count": null,
      "outputs": []
    },
    {
      "cell_type": "code",
      "source": [
        "df = pd.read_csv('/content/cryto-data.csv')\n",
        "df"
      ],
      "metadata": {
        "colab": {
          "base_uri": "https://localhost:8080/",
          "height": 1000
        },
        "id": "8nS_3CrKylDT",
        "outputId": "10112828-2519-486b-a9fc-e98e10a70ee4"
      },
      "execution_count": null,
      "outputs": [
        {
          "output_type": "execute_result",
          "data": {
            "text/plain": [
              "      Unnamed: 0                                    uncleaned tweet  \\\n",
              "0              0  RT @MetaBeatOffl: QUIZ TIME on today's #MORNIN...   \n",
              "1              1  RT @GGslayerstudios: 📣Massive #Giveaway❤️‍🔥\\n\\...   \n",
              "2              2  Current #Cardano price Alert: \\n\\n#ADA $0.52 U...   \n",
              "3              3  RT @evai_io: What’s in it for me?🤔\\n\\nRewardin...   \n",
              "4              4  RT @CLOCKMENNFT: Join us in revolutionizing we...   \n",
              "...          ...                                                ...   \n",
              "7643        7643  RT @MattWallace888: Elon Musk announcing Tesla...   \n",
              "7644        7644  I will fix google merchant cente̗r #suspension...   \n",
              "7645        7645  We all live with the objective of being happy;...   \n",
              "7646        7646  RT @TheDogeBird: Hey, @elonmusk, can we borrow...   \n",
              "7647        7647  @TSLAFanMtl Exactly.   And I challenge the HYP...   \n",
              "\n",
              "                 name           created_at  favorite_count      screen_name  \\\n",
              "0           ImDahDude  2022-09-10 13:33:05            80.0        DahDude22   \n",
              "1      👏SanjayVaghri👏  2022-09-10 13:33:04          3547.0    sanjay_vaghri   \n",
              "2     Cardano Tracker  2022-09-10 13:33:03             2.0   CardanoTracker   \n",
              "3            godfrey™  2022-09-10 13:33:01        184359.0       godfrey_G_   \n",
              "4                 rul  2022-09-10 13:33:01          6600.0     bromenangbro   \n",
              "...               ...                  ...             ...              ...   \n",
              "7643    Alex Gonzalez  2022-09-11 16:47:55           472.0  AlexGon71908134   \n",
              "7644        Kaiser GX  2022-09-11 16:47:47         10482.0        Kaiser_GX   \n",
              "7645       OwnerOfGMT  2022-09-11 16:47:12           210.0       Ownerofgmt   \n",
              "7646      Booth Tyler  2022-09-11 16:47:06            35.0      BoothTyler4   \n",
              "7647             Ezer  2022-09-11 16:21:40          2742.0     EzerRatchaga   \n",
              "\n",
              "                   source  retweet_count  \\\n",
              "0         Twitter Web App            5.0   \n",
              "1         Twitter Web App          992.0   \n",
              "2         Twitter Web App            0.0   \n",
              "3              AiSpaceBot            3.0   \n",
              "4     Twitter for Android          801.0   \n",
              "...                   ...            ...   \n",
              "7643  Twitter for Android         2302.0   \n",
              "7644         Crawl_tweepy            0.0   \n",
              "7645           OwnerOfGMT            0.0   \n",
              "7646      Twitter Web App            4.0   \n",
              "7647  Twitter for Android            0.0   \n",
              "\n",
              "                                            clean tweet  polarity  \\\n",
              "0     quiz time todays morningbeat metabeats token h...  0.000000   \n",
              "1     massive giveaway reward pool tokens worth 5000...  0.550000   \n",
              "2     current cardano price ale052 usd bitcoin 24437...  0.000000   \n",
              "3     whats rewarding evai community members paevai ...  0.000000   \n",
              "4     join revolutionizing web3 partnerships discove...  0.600000   \n",
              "...                                                 ...       ...   \n",
              "7643  elon musk announcing tesla accepting dogecoin ...  0.400000   \n",
              "7644  fix google merchant center suspension misrepre... -0.100000   \n",
              "7645    live objective happy lives different anne frank  0.136364   \n",
              "7646           hey borrow piece land day thoughts event  0.000000   \n",
              "7647          challenge hypesters dangerous tslaq claim  0.000000   \n",
              "\n",
              "      Subjectivity sentiment  \n",
              "0             0.00   neutral  \n",
              "1             0.25  positive  \n",
              "2             0.40   neutral  \n",
              "3             0.00   neutral  \n",
              "4             0.90  positive  \n",
              "...            ...       ...  \n",
              "7643          0.90  positive  \n",
              "7644          0.10  negative  \n",
              "7645          0.50  positive  \n",
              "7646          0.00   neutral  \n",
              "7647          0.00   neutral  \n",
              "\n",
              "[7648 rows x 12 columns]"
            ],
            "text/html": [
              "\n",
              "  <div id=\"df-70abb02c-0288-4bb9-a94e-bdc52dc74623\">\n",
              "    <div class=\"colab-df-container\">\n",
              "      <div>\n",
              "<style scoped>\n",
              "    .dataframe tbody tr th:only-of-type {\n",
              "        vertical-align: middle;\n",
              "    }\n",
              "\n",
              "    .dataframe tbody tr th {\n",
              "        vertical-align: top;\n",
              "    }\n",
              "\n",
              "    .dataframe thead th {\n",
              "        text-align: right;\n",
              "    }\n",
              "</style>\n",
              "<table border=\"1\" class=\"dataframe\">\n",
              "  <thead>\n",
              "    <tr style=\"text-align: right;\">\n",
              "      <th></th>\n",
              "      <th>Unnamed: 0</th>\n",
              "      <th>uncleaned tweet</th>\n",
              "      <th>name</th>\n",
              "      <th>created_at</th>\n",
              "      <th>favorite_count</th>\n",
              "      <th>screen_name</th>\n",
              "      <th>source</th>\n",
              "      <th>retweet_count</th>\n",
              "      <th>clean tweet</th>\n",
              "      <th>polarity</th>\n",
              "      <th>Subjectivity</th>\n",
              "      <th>sentiment</th>\n",
              "    </tr>\n",
              "  </thead>\n",
              "  <tbody>\n",
              "    <tr>\n",
              "      <th>0</th>\n",
              "      <td>0</td>\n",
              "      <td>RT @MetaBeatOffl: QUIZ TIME on today's #MORNIN...</td>\n",
              "      <td>ImDahDude</td>\n",
              "      <td>2022-09-10 13:33:05</td>\n",
              "      <td>80.0</td>\n",
              "      <td>DahDude22</td>\n",
              "      <td>Twitter Web App</td>\n",
              "      <td>5.0</td>\n",
              "      <td>quiz time todays morningbeat metabeats token h...</td>\n",
              "      <td>0.000000</td>\n",
              "      <td>0.00</td>\n",
              "      <td>neutral</td>\n",
              "    </tr>\n",
              "    <tr>\n",
              "      <th>1</th>\n",
              "      <td>1</td>\n",
              "      <td>RT @GGslayerstudios: 📣Massive #Giveaway❤️‍🔥\\n\\...</td>\n",
              "      <td>👏SanjayVaghri👏</td>\n",
              "      <td>2022-09-10 13:33:04</td>\n",
              "      <td>3547.0</td>\n",
              "      <td>sanjay_vaghri</td>\n",
              "      <td>Twitter Web App</td>\n",
              "      <td>992.0</td>\n",
              "      <td>massive giveaway reward pool tokens worth 5000...</td>\n",
              "      <td>0.550000</td>\n",
              "      <td>0.25</td>\n",
              "      <td>positive</td>\n",
              "    </tr>\n",
              "    <tr>\n",
              "      <th>2</th>\n",
              "      <td>2</td>\n",
              "      <td>Current #Cardano price Alert: \\n\\n#ADA $0.52 U...</td>\n",
              "      <td>Cardano Tracker</td>\n",
              "      <td>2022-09-10 13:33:03</td>\n",
              "      <td>2.0</td>\n",
              "      <td>CardanoTracker</td>\n",
              "      <td>Twitter Web App</td>\n",
              "      <td>0.0</td>\n",
              "      <td>current cardano price ale052 usd bitcoin 24437...</td>\n",
              "      <td>0.000000</td>\n",
              "      <td>0.40</td>\n",
              "      <td>neutral</td>\n",
              "    </tr>\n",
              "    <tr>\n",
              "      <th>3</th>\n",
              "      <td>3</td>\n",
              "      <td>RT @evai_io: What’s in it for me?🤔\\n\\nRewardin...</td>\n",
              "      <td>godfrey™</td>\n",
              "      <td>2022-09-10 13:33:01</td>\n",
              "      <td>184359.0</td>\n",
              "      <td>godfrey_G_</td>\n",
              "      <td>AiSpaceBot</td>\n",
              "      <td>3.0</td>\n",
              "      <td>whats rewarding evai community members paevai ...</td>\n",
              "      <td>0.000000</td>\n",
              "      <td>0.00</td>\n",
              "      <td>neutral</td>\n",
              "    </tr>\n",
              "    <tr>\n",
              "      <th>4</th>\n",
              "      <td>4</td>\n",
              "      <td>RT @CLOCKMENNFT: Join us in revolutionizing we...</td>\n",
              "      <td>rul</td>\n",
              "      <td>2022-09-10 13:33:01</td>\n",
              "      <td>6600.0</td>\n",
              "      <td>bromenangbro</td>\n",
              "      <td>Twitter for Android</td>\n",
              "      <td>801.0</td>\n",
              "      <td>join revolutionizing web3 partnerships discove...</td>\n",
              "      <td>0.600000</td>\n",
              "      <td>0.90</td>\n",
              "      <td>positive</td>\n",
              "    </tr>\n",
              "    <tr>\n",
              "      <th>...</th>\n",
              "      <td>...</td>\n",
              "      <td>...</td>\n",
              "      <td>...</td>\n",
              "      <td>...</td>\n",
              "      <td>...</td>\n",
              "      <td>...</td>\n",
              "      <td>...</td>\n",
              "      <td>...</td>\n",
              "      <td>...</td>\n",
              "      <td>...</td>\n",
              "      <td>...</td>\n",
              "      <td>...</td>\n",
              "    </tr>\n",
              "    <tr>\n",
              "      <th>7643</th>\n",
              "      <td>7643</td>\n",
              "      <td>RT @MattWallace888: Elon Musk announcing Tesla...</td>\n",
              "      <td>Alex Gonzalez</td>\n",
              "      <td>2022-09-11 16:47:55</td>\n",
              "      <td>472.0</td>\n",
              "      <td>AlexGon71908134</td>\n",
              "      <td>Twitter for Android</td>\n",
              "      <td>2302.0</td>\n",
              "      <td>elon musk announcing tesla accepting dogecoin ...</td>\n",
              "      <td>0.400000</td>\n",
              "      <td>0.90</td>\n",
              "      <td>positive</td>\n",
              "    </tr>\n",
              "    <tr>\n",
              "      <th>7644</th>\n",
              "      <td>7644</td>\n",
              "      <td>I will fix google merchant cente̗r #suspension...</td>\n",
              "      <td>Kaiser GX</td>\n",
              "      <td>2022-09-11 16:47:47</td>\n",
              "      <td>10482.0</td>\n",
              "      <td>Kaiser_GX</td>\n",
              "      <td>Crawl_tweepy</td>\n",
              "      <td>0.0</td>\n",
              "      <td>fix google merchant center suspension misrepre...</td>\n",
              "      <td>-0.100000</td>\n",
              "      <td>0.10</td>\n",
              "      <td>negative</td>\n",
              "    </tr>\n",
              "    <tr>\n",
              "      <th>7645</th>\n",
              "      <td>7645</td>\n",
              "      <td>We all live with the objective of being happy;...</td>\n",
              "      <td>OwnerOfGMT</td>\n",
              "      <td>2022-09-11 16:47:12</td>\n",
              "      <td>210.0</td>\n",
              "      <td>Ownerofgmt</td>\n",
              "      <td>OwnerOfGMT</td>\n",
              "      <td>0.0</td>\n",
              "      <td>live objective happy lives different anne frank</td>\n",
              "      <td>0.136364</td>\n",
              "      <td>0.50</td>\n",
              "      <td>positive</td>\n",
              "    </tr>\n",
              "    <tr>\n",
              "      <th>7646</th>\n",
              "      <td>7646</td>\n",
              "      <td>RT @TheDogeBird: Hey, @elonmusk, can we borrow...</td>\n",
              "      <td>Booth Tyler</td>\n",
              "      <td>2022-09-11 16:47:06</td>\n",
              "      <td>35.0</td>\n",
              "      <td>BoothTyler4</td>\n",
              "      <td>Twitter Web App</td>\n",
              "      <td>4.0</td>\n",
              "      <td>hey borrow piece land day thoughts event</td>\n",
              "      <td>0.000000</td>\n",
              "      <td>0.00</td>\n",
              "      <td>neutral</td>\n",
              "    </tr>\n",
              "    <tr>\n",
              "      <th>7647</th>\n",
              "      <td>7647</td>\n",
              "      <td>@TSLAFanMtl Exactly.   And I challenge the HYP...</td>\n",
              "      <td>Ezer</td>\n",
              "      <td>2022-09-11 16:21:40</td>\n",
              "      <td>2742.0</td>\n",
              "      <td>EzerRatchaga</td>\n",
              "      <td>Twitter for Android</td>\n",
              "      <td>0.0</td>\n",
              "      <td>challenge hypesters dangerous tslaq claim</td>\n",
              "      <td>0.000000</td>\n",
              "      <td>0.00</td>\n",
              "      <td>neutral</td>\n",
              "    </tr>\n",
              "  </tbody>\n",
              "</table>\n",
              "<p>7648 rows × 12 columns</p>\n",
              "</div>\n",
              "      <button class=\"colab-df-convert\" onclick=\"convertToInteractive('df-70abb02c-0288-4bb9-a94e-bdc52dc74623')\"\n",
              "              title=\"Convert this dataframe to an interactive table.\"\n",
              "              style=\"display:none;\">\n",
              "        \n",
              "  <svg xmlns=\"http://www.w3.org/2000/svg\" height=\"24px\"viewBox=\"0 0 24 24\"\n",
              "       width=\"24px\">\n",
              "    <path d=\"M0 0h24v24H0V0z\" fill=\"none\"/>\n",
              "    <path d=\"M18.56 5.44l.94 2.06.94-2.06 2.06-.94-2.06-.94-.94-2.06-.94 2.06-2.06.94zm-11 1L8.5 8.5l.94-2.06 2.06-.94-2.06-.94L8.5 2.5l-.94 2.06-2.06.94zm10 10l.94 2.06.94-2.06 2.06-.94-2.06-.94-.94-2.06-.94 2.06-2.06.94z\"/><path d=\"M17.41 7.96l-1.37-1.37c-.4-.4-.92-.59-1.43-.59-.52 0-1.04.2-1.43.59L10.3 9.45l-7.72 7.72c-.78.78-.78 2.05 0 2.83L4 21.41c.39.39.9.59 1.41.59.51 0 1.02-.2 1.41-.59l7.78-7.78 2.81-2.81c.8-.78.8-2.07 0-2.86zM5.41 20L4 18.59l7.72-7.72 1.47 1.35L5.41 20z\"/>\n",
              "  </svg>\n",
              "      </button>\n",
              "      \n",
              "  <style>\n",
              "    .colab-df-container {\n",
              "      display:flex;\n",
              "      flex-wrap:wrap;\n",
              "      gap: 12px;\n",
              "    }\n",
              "\n",
              "    .colab-df-convert {\n",
              "      background-color: #E8F0FE;\n",
              "      border: none;\n",
              "      border-radius: 50%;\n",
              "      cursor: pointer;\n",
              "      display: none;\n",
              "      fill: #1967D2;\n",
              "      height: 32px;\n",
              "      padding: 0 0 0 0;\n",
              "      width: 32px;\n",
              "    }\n",
              "\n",
              "    .colab-df-convert:hover {\n",
              "      background-color: #E2EBFA;\n",
              "      box-shadow: 0px 1px 2px rgba(60, 64, 67, 0.3), 0px 1px 3px 1px rgba(60, 64, 67, 0.15);\n",
              "      fill: #174EA6;\n",
              "    }\n",
              "\n",
              "    [theme=dark] .colab-df-convert {\n",
              "      background-color: #3B4455;\n",
              "      fill: #D2E3FC;\n",
              "    }\n",
              "\n",
              "    [theme=dark] .colab-df-convert:hover {\n",
              "      background-color: #434B5C;\n",
              "      box-shadow: 0px 1px 3px 1px rgba(0, 0, 0, 0.15);\n",
              "      filter: drop-shadow(0px 1px 2px rgba(0, 0, 0, 0.3));\n",
              "      fill: #FFFFFF;\n",
              "    }\n",
              "  </style>\n",
              "\n",
              "      <script>\n",
              "        const buttonEl =\n",
              "          document.querySelector('#df-70abb02c-0288-4bb9-a94e-bdc52dc74623 button.colab-df-convert');\n",
              "        buttonEl.style.display =\n",
              "          google.colab.kernel.accessAllowed ? 'block' : 'none';\n",
              "\n",
              "        async function convertToInteractive(key) {\n",
              "          const element = document.querySelector('#df-70abb02c-0288-4bb9-a94e-bdc52dc74623');\n",
              "          const dataTable =\n",
              "            await google.colab.kernel.invokeFunction('convertToInteractive',\n",
              "                                                     [key], {});\n",
              "          if (!dataTable) return;\n",
              "\n",
              "          const docLinkHtml = 'Like what you see? Visit the ' +\n",
              "            '<a target=\"_blank\" href=https://colab.research.google.com/notebooks/data_table.ipynb>data table notebook</a>'\n",
              "            + ' to learn more about interactive tables.';\n",
              "          element.innerHTML = '';\n",
              "          dataTable['output_type'] = 'display_data';\n",
              "          await google.colab.output.renderOutput(dataTable, element);\n",
              "          const docLink = document.createElement('div');\n",
              "          docLink.innerHTML = docLinkHtml;\n",
              "          element.appendChild(docLink);\n",
              "        }\n",
              "      </script>\n",
              "    </div>\n",
              "  </div>\n",
              "  "
            ]
          },
          "metadata": {},
          "execution_count": 9
        }
      ]
    },
    {
      "cell_type": "code",
      "source": [
        "df.dropna()"
      ],
      "metadata": {
        "id": "zigozjq_yryX",
        "colab": {
          "base_uri": "https://localhost:8080/",
          "height": 1000
        },
        "outputId": "72f93f4d-e4ff-4d04-f3da-991df23a3dfd"
      },
      "execution_count": null,
      "outputs": [
        {
          "output_type": "execute_result",
          "data": {
            "text/plain": [
              "      Unnamed: 0                                    uncleaned tweet  \\\n",
              "0              0  RT @MetaBeatOffl: QUIZ TIME on today's #MORNIN...   \n",
              "1              1  RT @GGslayerstudios: 📣Massive #Giveaway❤️‍🔥\\n\\...   \n",
              "2              2  Current #Cardano price Alert: \\n\\n#ADA $0.52 U...   \n",
              "3              3  RT @evai_io: What’s in it for me?🤔\\n\\nRewardin...   \n",
              "4              4  RT @CLOCKMENNFT: Join us in revolutionizing we...   \n",
              "...          ...                                                ...   \n",
              "7643        7643  RT @MattWallace888: Elon Musk announcing Tesla...   \n",
              "7644        7644  I will fix google merchant cente̗r #suspension...   \n",
              "7645        7645  We all live with the objective of being happy;...   \n",
              "7646        7646  RT @TheDogeBird: Hey, @elonmusk, can we borrow...   \n",
              "7647        7647  @TSLAFanMtl Exactly.   And I challenge the HYP...   \n",
              "\n",
              "                 name           created_at  favorite_count      screen_name  \\\n",
              "0           ImDahDude  2022-09-10 13:33:05            80.0        DahDude22   \n",
              "1      👏SanjayVaghri👏  2022-09-10 13:33:04          3547.0    sanjay_vaghri   \n",
              "2     Cardano Tracker  2022-09-10 13:33:03             2.0   CardanoTracker   \n",
              "3            godfrey™  2022-09-10 13:33:01        184359.0       godfrey_G_   \n",
              "4                 rul  2022-09-10 13:33:01          6600.0     bromenangbro   \n",
              "...               ...                  ...             ...              ...   \n",
              "7643    Alex Gonzalez  2022-09-11 16:47:55           472.0  AlexGon71908134   \n",
              "7644        Kaiser GX  2022-09-11 16:47:47         10482.0        Kaiser_GX   \n",
              "7645       OwnerOfGMT  2022-09-11 16:47:12           210.0       Ownerofgmt   \n",
              "7646      Booth Tyler  2022-09-11 16:47:06            35.0      BoothTyler4   \n",
              "7647             Ezer  2022-09-11 16:21:40          2742.0     EzerRatchaga   \n",
              "\n",
              "                   source  retweet_count  \\\n",
              "0         Twitter Web App            5.0   \n",
              "1         Twitter Web App          992.0   \n",
              "2         Twitter Web App            0.0   \n",
              "3              AiSpaceBot            3.0   \n",
              "4     Twitter for Android          801.0   \n",
              "...                   ...            ...   \n",
              "7643  Twitter for Android         2302.0   \n",
              "7644         Crawl_tweepy            0.0   \n",
              "7645           OwnerOfGMT            0.0   \n",
              "7646      Twitter Web App            4.0   \n",
              "7647  Twitter for Android            0.0   \n",
              "\n",
              "                                            clean tweet  polarity  \\\n",
              "0     quiz time todays morningbeat metabeats token h...  0.000000   \n",
              "1     massive giveaway reward pool tokens worth 5000...  0.550000   \n",
              "2     current cardano price ale052 usd bitcoin 24437...  0.000000   \n",
              "3     whats rewarding evai community members paevai ...  0.000000   \n",
              "4     join revolutionizing web3 partnerships discove...  0.600000   \n",
              "...                                                 ...       ...   \n",
              "7643  elon musk announcing tesla accepting dogecoin ...  0.400000   \n",
              "7644  fix google merchant center suspension misrepre... -0.100000   \n",
              "7645    live objective happy lives different anne frank  0.136364   \n",
              "7646           hey borrow piece land day thoughts event  0.000000   \n",
              "7647          challenge hypesters dangerous tslaq claim  0.000000   \n",
              "\n",
              "      Subjectivity sentiment  \n",
              "0             0.00   neutral  \n",
              "1             0.25  positive  \n",
              "2             0.40   neutral  \n",
              "3             0.00   neutral  \n",
              "4             0.90  positive  \n",
              "...            ...       ...  \n",
              "7643          0.90  positive  \n",
              "7644          0.10  negative  \n",
              "7645          0.50  positive  \n",
              "7646          0.00   neutral  \n",
              "7647          0.00   neutral  \n",
              "\n",
              "[7647 rows x 12 columns]"
            ],
            "text/html": [
              "\n",
              "  <div id=\"df-17b1ccf2-2459-4898-b274-d4713ba19a30\">\n",
              "    <div class=\"colab-df-container\">\n",
              "      <div>\n",
              "<style scoped>\n",
              "    .dataframe tbody tr th:only-of-type {\n",
              "        vertical-align: middle;\n",
              "    }\n",
              "\n",
              "    .dataframe tbody tr th {\n",
              "        vertical-align: top;\n",
              "    }\n",
              "\n",
              "    .dataframe thead th {\n",
              "        text-align: right;\n",
              "    }\n",
              "</style>\n",
              "<table border=\"1\" class=\"dataframe\">\n",
              "  <thead>\n",
              "    <tr style=\"text-align: right;\">\n",
              "      <th></th>\n",
              "      <th>Unnamed: 0</th>\n",
              "      <th>uncleaned tweet</th>\n",
              "      <th>name</th>\n",
              "      <th>created_at</th>\n",
              "      <th>favorite_count</th>\n",
              "      <th>screen_name</th>\n",
              "      <th>source</th>\n",
              "      <th>retweet_count</th>\n",
              "      <th>clean tweet</th>\n",
              "      <th>polarity</th>\n",
              "      <th>Subjectivity</th>\n",
              "      <th>sentiment</th>\n",
              "    </tr>\n",
              "  </thead>\n",
              "  <tbody>\n",
              "    <tr>\n",
              "      <th>0</th>\n",
              "      <td>0</td>\n",
              "      <td>RT @MetaBeatOffl: QUIZ TIME on today's #MORNIN...</td>\n",
              "      <td>ImDahDude</td>\n",
              "      <td>2022-09-10 13:33:05</td>\n",
              "      <td>80.0</td>\n",
              "      <td>DahDude22</td>\n",
              "      <td>Twitter Web App</td>\n",
              "      <td>5.0</td>\n",
              "      <td>quiz time todays morningbeat metabeats token h...</td>\n",
              "      <td>0.000000</td>\n",
              "      <td>0.00</td>\n",
              "      <td>neutral</td>\n",
              "    </tr>\n",
              "    <tr>\n",
              "      <th>1</th>\n",
              "      <td>1</td>\n",
              "      <td>RT @GGslayerstudios: 📣Massive #Giveaway❤️‍🔥\\n\\...</td>\n",
              "      <td>👏SanjayVaghri👏</td>\n",
              "      <td>2022-09-10 13:33:04</td>\n",
              "      <td>3547.0</td>\n",
              "      <td>sanjay_vaghri</td>\n",
              "      <td>Twitter Web App</td>\n",
              "      <td>992.0</td>\n",
              "      <td>massive giveaway reward pool tokens worth 5000...</td>\n",
              "      <td>0.550000</td>\n",
              "      <td>0.25</td>\n",
              "      <td>positive</td>\n",
              "    </tr>\n",
              "    <tr>\n",
              "      <th>2</th>\n",
              "      <td>2</td>\n",
              "      <td>Current #Cardano price Alert: \\n\\n#ADA $0.52 U...</td>\n",
              "      <td>Cardano Tracker</td>\n",
              "      <td>2022-09-10 13:33:03</td>\n",
              "      <td>2.0</td>\n",
              "      <td>CardanoTracker</td>\n",
              "      <td>Twitter Web App</td>\n",
              "      <td>0.0</td>\n",
              "      <td>current cardano price ale052 usd bitcoin 24437...</td>\n",
              "      <td>0.000000</td>\n",
              "      <td>0.40</td>\n",
              "      <td>neutral</td>\n",
              "    </tr>\n",
              "    <tr>\n",
              "      <th>3</th>\n",
              "      <td>3</td>\n",
              "      <td>RT @evai_io: What’s in it for me?🤔\\n\\nRewardin...</td>\n",
              "      <td>godfrey™</td>\n",
              "      <td>2022-09-10 13:33:01</td>\n",
              "      <td>184359.0</td>\n",
              "      <td>godfrey_G_</td>\n",
              "      <td>AiSpaceBot</td>\n",
              "      <td>3.0</td>\n",
              "      <td>whats rewarding evai community members paevai ...</td>\n",
              "      <td>0.000000</td>\n",
              "      <td>0.00</td>\n",
              "      <td>neutral</td>\n",
              "    </tr>\n",
              "    <tr>\n",
              "      <th>4</th>\n",
              "      <td>4</td>\n",
              "      <td>RT @CLOCKMENNFT: Join us in revolutionizing we...</td>\n",
              "      <td>rul</td>\n",
              "      <td>2022-09-10 13:33:01</td>\n",
              "      <td>6600.0</td>\n",
              "      <td>bromenangbro</td>\n",
              "      <td>Twitter for Android</td>\n",
              "      <td>801.0</td>\n",
              "      <td>join revolutionizing web3 partnerships discove...</td>\n",
              "      <td>0.600000</td>\n",
              "      <td>0.90</td>\n",
              "      <td>positive</td>\n",
              "    </tr>\n",
              "    <tr>\n",
              "      <th>...</th>\n",
              "      <td>...</td>\n",
              "      <td>...</td>\n",
              "      <td>...</td>\n",
              "      <td>...</td>\n",
              "      <td>...</td>\n",
              "      <td>...</td>\n",
              "      <td>...</td>\n",
              "      <td>...</td>\n",
              "      <td>...</td>\n",
              "      <td>...</td>\n",
              "      <td>...</td>\n",
              "      <td>...</td>\n",
              "    </tr>\n",
              "    <tr>\n",
              "      <th>7643</th>\n",
              "      <td>7643</td>\n",
              "      <td>RT @MattWallace888: Elon Musk announcing Tesla...</td>\n",
              "      <td>Alex Gonzalez</td>\n",
              "      <td>2022-09-11 16:47:55</td>\n",
              "      <td>472.0</td>\n",
              "      <td>AlexGon71908134</td>\n",
              "      <td>Twitter for Android</td>\n",
              "      <td>2302.0</td>\n",
              "      <td>elon musk announcing tesla accepting dogecoin ...</td>\n",
              "      <td>0.400000</td>\n",
              "      <td>0.90</td>\n",
              "      <td>positive</td>\n",
              "    </tr>\n",
              "    <tr>\n",
              "      <th>7644</th>\n",
              "      <td>7644</td>\n",
              "      <td>I will fix google merchant cente̗r #suspension...</td>\n",
              "      <td>Kaiser GX</td>\n",
              "      <td>2022-09-11 16:47:47</td>\n",
              "      <td>10482.0</td>\n",
              "      <td>Kaiser_GX</td>\n",
              "      <td>Crawl_tweepy</td>\n",
              "      <td>0.0</td>\n",
              "      <td>fix google merchant center suspension misrepre...</td>\n",
              "      <td>-0.100000</td>\n",
              "      <td>0.10</td>\n",
              "      <td>negative</td>\n",
              "    </tr>\n",
              "    <tr>\n",
              "      <th>7645</th>\n",
              "      <td>7645</td>\n",
              "      <td>We all live with the objective of being happy;...</td>\n",
              "      <td>OwnerOfGMT</td>\n",
              "      <td>2022-09-11 16:47:12</td>\n",
              "      <td>210.0</td>\n",
              "      <td>Ownerofgmt</td>\n",
              "      <td>OwnerOfGMT</td>\n",
              "      <td>0.0</td>\n",
              "      <td>live objective happy lives different anne frank</td>\n",
              "      <td>0.136364</td>\n",
              "      <td>0.50</td>\n",
              "      <td>positive</td>\n",
              "    </tr>\n",
              "    <tr>\n",
              "      <th>7646</th>\n",
              "      <td>7646</td>\n",
              "      <td>RT @TheDogeBird: Hey, @elonmusk, can we borrow...</td>\n",
              "      <td>Booth Tyler</td>\n",
              "      <td>2022-09-11 16:47:06</td>\n",
              "      <td>35.0</td>\n",
              "      <td>BoothTyler4</td>\n",
              "      <td>Twitter Web App</td>\n",
              "      <td>4.0</td>\n",
              "      <td>hey borrow piece land day thoughts event</td>\n",
              "      <td>0.000000</td>\n",
              "      <td>0.00</td>\n",
              "      <td>neutral</td>\n",
              "    </tr>\n",
              "    <tr>\n",
              "      <th>7647</th>\n",
              "      <td>7647</td>\n",
              "      <td>@TSLAFanMtl Exactly.   And I challenge the HYP...</td>\n",
              "      <td>Ezer</td>\n",
              "      <td>2022-09-11 16:21:40</td>\n",
              "      <td>2742.0</td>\n",
              "      <td>EzerRatchaga</td>\n",
              "      <td>Twitter for Android</td>\n",
              "      <td>0.0</td>\n",
              "      <td>challenge hypesters dangerous tslaq claim</td>\n",
              "      <td>0.000000</td>\n",
              "      <td>0.00</td>\n",
              "      <td>neutral</td>\n",
              "    </tr>\n",
              "  </tbody>\n",
              "</table>\n",
              "<p>7647 rows × 12 columns</p>\n",
              "</div>\n",
              "      <button class=\"colab-df-convert\" onclick=\"convertToInteractive('df-17b1ccf2-2459-4898-b274-d4713ba19a30')\"\n",
              "              title=\"Convert this dataframe to an interactive table.\"\n",
              "              style=\"display:none;\">\n",
              "        \n",
              "  <svg xmlns=\"http://www.w3.org/2000/svg\" height=\"24px\"viewBox=\"0 0 24 24\"\n",
              "       width=\"24px\">\n",
              "    <path d=\"M0 0h24v24H0V0z\" fill=\"none\"/>\n",
              "    <path d=\"M18.56 5.44l.94 2.06.94-2.06 2.06-.94-2.06-.94-.94-2.06-.94 2.06-2.06.94zm-11 1L8.5 8.5l.94-2.06 2.06-.94-2.06-.94L8.5 2.5l-.94 2.06-2.06.94zm10 10l.94 2.06.94-2.06 2.06-.94-2.06-.94-.94-2.06-.94 2.06-2.06.94z\"/><path d=\"M17.41 7.96l-1.37-1.37c-.4-.4-.92-.59-1.43-.59-.52 0-1.04.2-1.43.59L10.3 9.45l-7.72 7.72c-.78.78-.78 2.05 0 2.83L4 21.41c.39.39.9.59 1.41.59.51 0 1.02-.2 1.41-.59l7.78-7.78 2.81-2.81c.8-.78.8-2.07 0-2.86zM5.41 20L4 18.59l7.72-7.72 1.47 1.35L5.41 20z\"/>\n",
              "  </svg>\n",
              "      </button>\n",
              "      \n",
              "  <style>\n",
              "    .colab-df-container {\n",
              "      display:flex;\n",
              "      flex-wrap:wrap;\n",
              "      gap: 12px;\n",
              "    }\n",
              "\n",
              "    .colab-df-convert {\n",
              "      background-color: #E8F0FE;\n",
              "      border: none;\n",
              "      border-radius: 50%;\n",
              "      cursor: pointer;\n",
              "      display: none;\n",
              "      fill: #1967D2;\n",
              "      height: 32px;\n",
              "      padding: 0 0 0 0;\n",
              "      width: 32px;\n",
              "    }\n",
              "\n",
              "    .colab-df-convert:hover {\n",
              "      background-color: #E2EBFA;\n",
              "      box-shadow: 0px 1px 2px rgba(60, 64, 67, 0.3), 0px 1px 3px 1px rgba(60, 64, 67, 0.15);\n",
              "      fill: #174EA6;\n",
              "    }\n",
              "\n",
              "    [theme=dark] .colab-df-convert {\n",
              "      background-color: #3B4455;\n",
              "      fill: #D2E3FC;\n",
              "    }\n",
              "\n",
              "    [theme=dark] .colab-df-convert:hover {\n",
              "      background-color: #434B5C;\n",
              "      box-shadow: 0px 1px 3px 1px rgba(0, 0, 0, 0.15);\n",
              "      filter: drop-shadow(0px 1px 2px rgba(0, 0, 0, 0.3));\n",
              "      fill: #FFFFFF;\n",
              "    }\n",
              "  </style>\n",
              "\n",
              "      <script>\n",
              "        const buttonEl =\n",
              "          document.querySelector('#df-17b1ccf2-2459-4898-b274-d4713ba19a30 button.colab-df-convert');\n",
              "        buttonEl.style.display =\n",
              "          google.colab.kernel.accessAllowed ? 'block' : 'none';\n",
              "\n",
              "        async function convertToInteractive(key) {\n",
              "          const element = document.querySelector('#df-17b1ccf2-2459-4898-b274-d4713ba19a30');\n",
              "          const dataTable =\n",
              "            await google.colab.kernel.invokeFunction('convertToInteractive',\n",
              "                                                     [key], {});\n",
              "          if (!dataTable) return;\n",
              "\n",
              "          const docLinkHtml = 'Like what you see? Visit the ' +\n",
              "            '<a target=\"_blank\" href=https://colab.research.google.com/notebooks/data_table.ipynb>data table notebook</a>'\n",
              "            + ' to learn more about interactive tables.';\n",
              "          element.innerHTML = '';\n",
              "          dataTable['output_type'] = 'display_data';\n",
              "          await google.colab.output.renderOutput(dataTable, element);\n",
              "          const docLink = document.createElement('div');\n",
              "          docLink.innerHTML = docLinkHtml;\n",
              "          element.appendChild(docLink);\n",
              "        }\n",
              "      </script>\n",
              "    </div>\n",
              "  </div>\n",
              "  "
            ]
          },
          "metadata": {},
          "execution_count": 10
        }
      ]
    },
    {
      "cell_type": "code",
      "source": [
        "df1 = df[['clean tweet','sentiment']]\n",
        "df1"
      ],
      "metadata": {
        "id": "BnywFI5zywFf",
        "colab": {
          "base_uri": "https://localhost:8080/",
          "height": 424
        },
        "outputId": "7eea507a-ca30-45d7-8ec8-35173f11daa3"
      },
      "execution_count": null,
      "outputs": [
        {
          "output_type": "execute_result",
          "data": {
            "text/plain": [
              "                                            clean tweet sentiment\n",
              "0     quiz time todays morningbeat metabeats token h...   neutral\n",
              "1     massive giveaway reward pool tokens worth 5000...  positive\n",
              "2     current cardano price ale052 usd bitcoin 24437...   neutral\n",
              "3     whats rewarding evai community members paevai ...   neutral\n",
              "4     join revolutionizing web3 partnerships discove...  positive\n",
              "...                                                 ...       ...\n",
              "7643  elon musk announcing tesla accepting dogecoin ...  positive\n",
              "7644  fix google merchant center suspension misrepre...  negative\n",
              "7645    live objective happy lives different anne frank  positive\n",
              "7646           hey borrow piece land day thoughts event   neutral\n",
              "7647          challenge hypesters dangerous tslaq claim   neutral\n",
              "\n",
              "[7648 rows x 2 columns]"
            ],
            "text/html": [
              "\n",
              "  <div id=\"df-5833f442-63d1-41d1-b451-0b29aed3d3c8\">\n",
              "    <div class=\"colab-df-container\">\n",
              "      <div>\n",
              "<style scoped>\n",
              "    .dataframe tbody tr th:only-of-type {\n",
              "        vertical-align: middle;\n",
              "    }\n",
              "\n",
              "    .dataframe tbody tr th {\n",
              "        vertical-align: top;\n",
              "    }\n",
              "\n",
              "    .dataframe thead th {\n",
              "        text-align: right;\n",
              "    }\n",
              "</style>\n",
              "<table border=\"1\" class=\"dataframe\">\n",
              "  <thead>\n",
              "    <tr style=\"text-align: right;\">\n",
              "      <th></th>\n",
              "      <th>clean tweet</th>\n",
              "      <th>sentiment</th>\n",
              "    </tr>\n",
              "  </thead>\n",
              "  <tbody>\n",
              "    <tr>\n",
              "      <th>0</th>\n",
              "      <td>quiz time todays morningbeat metabeats token h...</td>\n",
              "      <td>neutral</td>\n",
              "    </tr>\n",
              "    <tr>\n",
              "      <th>1</th>\n",
              "      <td>massive giveaway reward pool tokens worth 5000...</td>\n",
              "      <td>positive</td>\n",
              "    </tr>\n",
              "    <tr>\n",
              "      <th>2</th>\n",
              "      <td>current cardano price ale052 usd bitcoin 24437...</td>\n",
              "      <td>neutral</td>\n",
              "    </tr>\n",
              "    <tr>\n",
              "      <th>3</th>\n",
              "      <td>whats rewarding evai community members paevai ...</td>\n",
              "      <td>neutral</td>\n",
              "    </tr>\n",
              "    <tr>\n",
              "      <th>4</th>\n",
              "      <td>join revolutionizing web3 partnerships discove...</td>\n",
              "      <td>positive</td>\n",
              "    </tr>\n",
              "    <tr>\n",
              "      <th>...</th>\n",
              "      <td>...</td>\n",
              "      <td>...</td>\n",
              "    </tr>\n",
              "    <tr>\n",
              "      <th>7643</th>\n",
              "      <td>elon musk announcing tesla accepting dogecoin ...</td>\n",
              "      <td>positive</td>\n",
              "    </tr>\n",
              "    <tr>\n",
              "      <th>7644</th>\n",
              "      <td>fix google merchant center suspension misrepre...</td>\n",
              "      <td>negative</td>\n",
              "    </tr>\n",
              "    <tr>\n",
              "      <th>7645</th>\n",
              "      <td>live objective happy lives different anne frank</td>\n",
              "      <td>positive</td>\n",
              "    </tr>\n",
              "    <tr>\n",
              "      <th>7646</th>\n",
              "      <td>hey borrow piece land day thoughts event</td>\n",
              "      <td>neutral</td>\n",
              "    </tr>\n",
              "    <tr>\n",
              "      <th>7647</th>\n",
              "      <td>challenge hypesters dangerous tslaq claim</td>\n",
              "      <td>neutral</td>\n",
              "    </tr>\n",
              "  </tbody>\n",
              "</table>\n",
              "<p>7648 rows × 2 columns</p>\n",
              "</div>\n",
              "      <button class=\"colab-df-convert\" onclick=\"convertToInteractive('df-5833f442-63d1-41d1-b451-0b29aed3d3c8')\"\n",
              "              title=\"Convert this dataframe to an interactive table.\"\n",
              "              style=\"display:none;\">\n",
              "        \n",
              "  <svg xmlns=\"http://www.w3.org/2000/svg\" height=\"24px\"viewBox=\"0 0 24 24\"\n",
              "       width=\"24px\">\n",
              "    <path d=\"M0 0h24v24H0V0z\" fill=\"none\"/>\n",
              "    <path d=\"M18.56 5.44l.94 2.06.94-2.06 2.06-.94-2.06-.94-.94-2.06-.94 2.06-2.06.94zm-11 1L8.5 8.5l.94-2.06 2.06-.94-2.06-.94L8.5 2.5l-.94 2.06-2.06.94zm10 10l.94 2.06.94-2.06 2.06-.94-2.06-.94-.94-2.06-.94 2.06-2.06.94z\"/><path d=\"M17.41 7.96l-1.37-1.37c-.4-.4-.92-.59-1.43-.59-.52 0-1.04.2-1.43.59L10.3 9.45l-7.72 7.72c-.78.78-.78 2.05 0 2.83L4 21.41c.39.39.9.59 1.41.59.51 0 1.02-.2 1.41-.59l7.78-7.78 2.81-2.81c.8-.78.8-2.07 0-2.86zM5.41 20L4 18.59l7.72-7.72 1.47 1.35L5.41 20z\"/>\n",
              "  </svg>\n",
              "      </button>\n",
              "      \n",
              "  <style>\n",
              "    .colab-df-container {\n",
              "      display:flex;\n",
              "      flex-wrap:wrap;\n",
              "      gap: 12px;\n",
              "    }\n",
              "\n",
              "    .colab-df-convert {\n",
              "      background-color: #E8F0FE;\n",
              "      border: none;\n",
              "      border-radius: 50%;\n",
              "      cursor: pointer;\n",
              "      display: none;\n",
              "      fill: #1967D2;\n",
              "      height: 32px;\n",
              "      padding: 0 0 0 0;\n",
              "      width: 32px;\n",
              "    }\n",
              "\n",
              "    .colab-df-convert:hover {\n",
              "      background-color: #E2EBFA;\n",
              "      box-shadow: 0px 1px 2px rgba(60, 64, 67, 0.3), 0px 1px 3px 1px rgba(60, 64, 67, 0.15);\n",
              "      fill: #174EA6;\n",
              "    }\n",
              "\n",
              "    [theme=dark] .colab-df-convert {\n",
              "      background-color: #3B4455;\n",
              "      fill: #D2E3FC;\n",
              "    }\n",
              "\n",
              "    [theme=dark] .colab-df-convert:hover {\n",
              "      background-color: #434B5C;\n",
              "      box-shadow: 0px 1px 3px 1px rgba(0, 0, 0, 0.15);\n",
              "      filter: drop-shadow(0px 1px 2px rgba(0, 0, 0, 0.3));\n",
              "      fill: #FFFFFF;\n",
              "    }\n",
              "  </style>\n",
              "\n",
              "      <script>\n",
              "        const buttonEl =\n",
              "          document.querySelector('#df-5833f442-63d1-41d1-b451-0b29aed3d3c8 button.colab-df-convert');\n",
              "        buttonEl.style.display =\n",
              "          google.colab.kernel.accessAllowed ? 'block' : 'none';\n",
              "\n",
              "        async function convertToInteractive(key) {\n",
              "          const element = document.querySelector('#df-5833f442-63d1-41d1-b451-0b29aed3d3c8');\n",
              "          const dataTable =\n",
              "            await google.colab.kernel.invokeFunction('convertToInteractive',\n",
              "                                                     [key], {});\n",
              "          if (!dataTable) return;\n",
              "\n",
              "          const docLinkHtml = 'Like what you see? Visit the ' +\n",
              "            '<a target=\"_blank\" href=https://colab.research.google.com/notebooks/data_table.ipynb>data table notebook</a>'\n",
              "            + ' to learn more about interactive tables.';\n",
              "          element.innerHTML = '';\n",
              "          dataTable['output_type'] = 'display_data';\n",
              "          await google.colab.output.renderOutput(dataTable, element);\n",
              "          const docLink = document.createElement('div');\n",
              "          docLink.innerHTML = docLinkHtml;\n",
              "          element.appendChild(docLink);\n",
              "        }\n",
              "      </script>\n",
              "    </div>\n",
              "  </div>\n",
              "  "
            ]
          },
          "metadata": {},
          "execution_count": 11
        }
      ]
    },
    {
      "cell_type": "code",
      "source": [
        "df2 = df1.dropna()\n",
        "df2"
      ],
      "metadata": {
        "id": "7JCwBhjRzE39",
        "colab": {
          "base_uri": "https://localhost:8080/",
          "height": 424
        },
        "outputId": "95db27db-6fed-41e7-a05a-07088cb86a9b"
      },
      "execution_count": null,
      "outputs": [
        {
          "output_type": "execute_result",
          "data": {
            "text/plain": [
              "                                            clean tweet sentiment\n",
              "0     quiz time todays morningbeat metabeats token h...   neutral\n",
              "1     massive giveaway reward pool tokens worth 5000...  positive\n",
              "2     current cardano price ale052 usd bitcoin 24437...   neutral\n",
              "3     whats rewarding evai community members paevai ...   neutral\n",
              "4     join revolutionizing web3 partnerships discove...  positive\n",
              "...                                                 ...       ...\n",
              "7643  elon musk announcing tesla accepting dogecoin ...  positive\n",
              "7644  fix google merchant center suspension misrepre...  negative\n",
              "7645    live objective happy lives different anne frank  positive\n",
              "7646           hey borrow piece land day thoughts event   neutral\n",
              "7647          challenge hypesters dangerous tslaq claim   neutral\n",
              "\n",
              "[7647 rows x 2 columns]"
            ],
            "text/html": [
              "\n",
              "  <div id=\"df-baa5dbcc-9180-427a-a6e1-ad1d2b1d68a6\">\n",
              "    <div class=\"colab-df-container\">\n",
              "      <div>\n",
              "<style scoped>\n",
              "    .dataframe tbody tr th:only-of-type {\n",
              "        vertical-align: middle;\n",
              "    }\n",
              "\n",
              "    .dataframe tbody tr th {\n",
              "        vertical-align: top;\n",
              "    }\n",
              "\n",
              "    .dataframe thead th {\n",
              "        text-align: right;\n",
              "    }\n",
              "</style>\n",
              "<table border=\"1\" class=\"dataframe\">\n",
              "  <thead>\n",
              "    <tr style=\"text-align: right;\">\n",
              "      <th></th>\n",
              "      <th>clean tweet</th>\n",
              "      <th>sentiment</th>\n",
              "    </tr>\n",
              "  </thead>\n",
              "  <tbody>\n",
              "    <tr>\n",
              "      <th>0</th>\n",
              "      <td>quiz time todays morningbeat metabeats token h...</td>\n",
              "      <td>neutral</td>\n",
              "    </tr>\n",
              "    <tr>\n",
              "      <th>1</th>\n",
              "      <td>massive giveaway reward pool tokens worth 5000...</td>\n",
              "      <td>positive</td>\n",
              "    </tr>\n",
              "    <tr>\n",
              "      <th>2</th>\n",
              "      <td>current cardano price ale052 usd bitcoin 24437...</td>\n",
              "      <td>neutral</td>\n",
              "    </tr>\n",
              "    <tr>\n",
              "      <th>3</th>\n",
              "      <td>whats rewarding evai community members paevai ...</td>\n",
              "      <td>neutral</td>\n",
              "    </tr>\n",
              "    <tr>\n",
              "      <th>4</th>\n",
              "      <td>join revolutionizing web3 partnerships discove...</td>\n",
              "      <td>positive</td>\n",
              "    </tr>\n",
              "    <tr>\n",
              "      <th>...</th>\n",
              "      <td>...</td>\n",
              "      <td>...</td>\n",
              "    </tr>\n",
              "    <tr>\n",
              "      <th>7643</th>\n",
              "      <td>elon musk announcing tesla accepting dogecoin ...</td>\n",
              "      <td>positive</td>\n",
              "    </tr>\n",
              "    <tr>\n",
              "      <th>7644</th>\n",
              "      <td>fix google merchant center suspension misrepre...</td>\n",
              "      <td>negative</td>\n",
              "    </tr>\n",
              "    <tr>\n",
              "      <th>7645</th>\n",
              "      <td>live objective happy lives different anne frank</td>\n",
              "      <td>positive</td>\n",
              "    </tr>\n",
              "    <tr>\n",
              "      <th>7646</th>\n",
              "      <td>hey borrow piece land day thoughts event</td>\n",
              "      <td>neutral</td>\n",
              "    </tr>\n",
              "    <tr>\n",
              "      <th>7647</th>\n",
              "      <td>challenge hypesters dangerous tslaq claim</td>\n",
              "      <td>neutral</td>\n",
              "    </tr>\n",
              "  </tbody>\n",
              "</table>\n",
              "<p>7647 rows × 2 columns</p>\n",
              "</div>\n",
              "      <button class=\"colab-df-convert\" onclick=\"convertToInteractive('df-baa5dbcc-9180-427a-a6e1-ad1d2b1d68a6')\"\n",
              "              title=\"Convert this dataframe to an interactive table.\"\n",
              "              style=\"display:none;\">\n",
              "        \n",
              "  <svg xmlns=\"http://www.w3.org/2000/svg\" height=\"24px\"viewBox=\"0 0 24 24\"\n",
              "       width=\"24px\">\n",
              "    <path d=\"M0 0h24v24H0V0z\" fill=\"none\"/>\n",
              "    <path d=\"M18.56 5.44l.94 2.06.94-2.06 2.06-.94-2.06-.94-.94-2.06-.94 2.06-2.06.94zm-11 1L8.5 8.5l.94-2.06 2.06-.94-2.06-.94L8.5 2.5l-.94 2.06-2.06.94zm10 10l.94 2.06.94-2.06 2.06-.94-2.06-.94-.94-2.06-.94 2.06-2.06.94z\"/><path d=\"M17.41 7.96l-1.37-1.37c-.4-.4-.92-.59-1.43-.59-.52 0-1.04.2-1.43.59L10.3 9.45l-7.72 7.72c-.78.78-.78 2.05 0 2.83L4 21.41c.39.39.9.59 1.41.59.51 0 1.02-.2 1.41-.59l7.78-7.78 2.81-2.81c.8-.78.8-2.07 0-2.86zM5.41 20L4 18.59l7.72-7.72 1.47 1.35L5.41 20z\"/>\n",
              "  </svg>\n",
              "      </button>\n",
              "      \n",
              "  <style>\n",
              "    .colab-df-container {\n",
              "      display:flex;\n",
              "      flex-wrap:wrap;\n",
              "      gap: 12px;\n",
              "    }\n",
              "\n",
              "    .colab-df-convert {\n",
              "      background-color: #E8F0FE;\n",
              "      border: none;\n",
              "      border-radius: 50%;\n",
              "      cursor: pointer;\n",
              "      display: none;\n",
              "      fill: #1967D2;\n",
              "      height: 32px;\n",
              "      padding: 0 0 0 0;\n",
              "      width: 32px;\n",
              "    }\n",
              "\n",
              "    .colab-df-convert:hover {\n",
              "      background-color: #E2EBFA;\n",
              "      box-shadow: 0px 1px 2px rgba(60, 64, 67, 0.3), 0px 1px 3px 1px rgba(60, 64, 67, 0.15);\n",
              "      fill: #174EA6;\n",
              "    }\n",
              "\n",
              "    [theme=dark] .colab-df-convert {\n",
              "      background-color: #3B4455;\n",
              "      fill: #D2E3FC;\n",
              "    }\n",
              "\n",
              "    [theme=dark] .colab-df-convert:hover {\n",
              "      background-color: #434B5C;\n",
              "      box-shadow: 0px 1px 3px 1px rgba(0, 0, 0, 0.15);\n",
              "      filter: drop-shadow(0px 1px 2px rgba(0, 0, 0, 0.3));\n",
              "      fill: #FFFFFF;\n",
              "    }\n",
              "  </style>\n",
              "\n",
              "      <script>\n",
              "        const buttonEl =\n",
              "          document.querySelector('#df-baa5dbcc-9180-427a-a6e1-ad1d2b1d68a6 button.colab-df-convert');\n",
              "        buttonEl.style.display =\n",
              "          google.colab.kernel.accessAllowed ? 'block' : 'none';\n",
              "\n",
              "        async function convertToInteractive(key) {\n",
              "          const element = document.querySelector('#df-baa5dbcc-9180-427a-a6e1-ad1d2b1d68a6');\n",
              "          const dataTable =\n",
              "            await google.colab.kernel.invokeFunction('convertToInteractive',\n",
              "                                                     [key], {});\n",
              "          if (!dataTable) return;\n",
              "\n",
              "          const docLinkHtml = 'Like what you see? Visit the ' +\n",
              "            '<a target=\"_blank\" href=https://colab.research.google.com/notebooks/data_table.ipynb>data table notebook</a>'\n",
              "            + ' to learn more about interactive tables.';\n",
              "          element.innerHTML = '';\n",
              "          dataTable['output_type'] = 'display_data';\n",
              "          await google.colab.output.renderOutput(dataTable, element);\n",
              "          const docLink = document.createElement('div');\n",
              "          docLink.innerHTML = docLinkHtml;\n",
              "          element.appendChild(docLink);\n",
              "        }\n",
              "      </script>\n",
              "    </div>\n",
              "  </div>\n",
              "  "
            ]
          },
          "metadata": {},
          "execution_count": 12
        }
      ]
    },
    {
      "cell_type": "code",
      "source": [
        "common_words=''\n",
        "tweets = list(df2['clean tweet'])\n",
        "for i in tweets:\n",
        "    i = str(i)\n",
        "    tokens = i.split()\n",
        "    common_words += \" \".join(tokens)+\" \"\n",
        "wordcloud_list = wordcloud.WordCloud().generate(common_words)\n",
        "plt.imshow(wordcloud_list, interpolation='bilinear')\n",
        "plt.axis(\"off\")\n",
        "plt.show()"
      ],
      "metadata": {
        "id": "iC6S8_9K0o-d",
        "colab": {
          "base_uri": "https://localhost:8080/",
          "height": 198
        },
        "outputId": "5223c6c9-0db5-4046-9ea6-395c8ce7b288"
      },
      "execution_count": null,
      "outputs": [
        {
          "output_type": "display_data",
          "data": {
            "text/plain": [
              "<Figure size 432x288 with 1 Axes>"
            ],
            "image/png": "[encoded data removed]"
          },
          "metadata": {
            "needs_background": "light"
          }
        }
      ]
    },
    {
      "cell_type": "markdown",
      "source": [
        "##Sentimental Analysis - SVM "
      ],
      "metadata": {
        "id": "PxVY7IvXWMBE"
      }
    },
    {
      "cell_type": "code",
      "source": [
        "vectorizer = TfidfVectorizer()"
      ],
      "metadata": {
        "id": "2j8T0lJp0SKj"
      },
      "execution_count": null,
      "outputs": []
    },
    {
      "cell_type": "code",
      "source": [
        "trainData,testData = train_test_split(df2,test_size=0.3)"
      ],
      "metadata": {
        "id": "K8wbe33h0dxg"
      },
      "execution_count": null,
      "outputs": []
    },
    {
      "cell_type": "code",
      "source": [
        "train_vectors = vectorizer.fit_transform(trainData['clean tweet'])\n",
        "test_vectors = vectorizer.transform(testData['clean tweet'])"
      ],
      "metadata": {
        "id": "6BJ667Xo0c3X"
      },
      "execution_count": null,
      "outputs": []
    },
    {
      "cell_type": "code",
      "source": [
        "classifier_linear = svm.SVC(kernel='linear')"
      ],
      "metadata": {
        "id": "ZZp2uaLL1hYI"
      },
      "execution_count": null,
      "outputs": []
    },
    {
      "cell_type": "code",
      "source": [
        "classifier_linear.fit(train_vectors, trainData['sentiment'])"
      ],
      "metadata": {
        "id": "TxW2iIyg1xg_",
        "colab": {
          "base_uri": "https://localhost:8080/"
        },
        "outputId": "c638f87c-1e3e-468b-e698-67c0bcbb051a"
      },
      "execution_count": null,
      "outputs": [
        {
          "output_type": "execute_result",
          "data": {
            "text/plain": [
              "SVC(kernel='linear')"
            ]
          },
          "metadata": {},
          "execution_count": 18
        }
      ]
    },
    {
      "cell_type": "code",
      "source": [
        "prediction_linear = classifier_linear.predict(test_vectors)"
      ],
      "metadata": {
        "id": "GzVbe0Oh19qB"
      },
      "execution_count": null,
      "outputs": []
    },
    {
      "cell_type": "code",
      "source": [
        "classification_report(testData['sentiment'], prediction_linear, output_dict=True)"
      ],
      "metadata": {
        "id": "mFk02Y8CT04q",
        "colab": {
          "base_uri": "https://localhost:8080/"
        },
        "outputId": "1a9413cc-02bd-4b65-c01d-704876cacdb9"
      },
      "execution_count": null,
      "outputs": [
        {
          "output_type": "execute_result",
          "data": {
            "text/plain": [
              "{'negative': {'precision': 0.9666666666666667,\n",
              "  'recall': 0.5471698113207547,\n",
              "  'f1-score': 0.6987951807228916,\n",
              "  'support': 159},\n",
              " 'neutral': {'precision': 0.9118442401297999,\n",
              "  'recall': 0.9952774498229043,\n",
              "  'f1-score': 0.951735817104149,\n",
              "  'support': 1694},\n",
              " 'positive': {'precision': 0.9550561797752809,\n",
              "  'recall': 0.7692307692307693,\n",
              "  'f1-score': 0.8521303258145364,\n",
              "  'support': 442},\n",
              " 'accuracy': 0.9206971677559913,\n",
              " 'macro avg': {'precision': 0.9445223621905825,\n",
              "  'recall': 0.7705593434581428,\n",
              "  'f1-score': 0.834220441213859,\n",
              "  'support': 2295},\n",
              " 'weighted avg': {'precision': 0.923964694658194,\n",
              "  'recall': 0.9206971677559913,\n",
              "  'f1-score': 0.9150285454986464,\n",
              "  'support': 2295}}"
            ]
          },
          "metadata": {},
          "execution_count": 20
        }
      ]
    },
    {
      "cell_type": "code",
      "source": [
        "recall_score(testData['sentiment'].values, prediction_linear,average='weighted')"
      ],
      "metadata": {
        "id": "cwwmhz8_UmGr",
        "colab": {
          "base_uri": "https://localhost:8080/"
        },
        "outputId": "03e446c9-2d7e-4dc8-9df7-dfd93b48d5e7"
      },
      "execution_count": null,
      "outputs": [
        {
          "output_type": "execute_result",
          "data": {
            "text/plain": [
              "0.9206971677559913"
            ]
          },
          "metadata": {},
          "execution_count": 21
        }
      ]
    },
    {
      "cell_type": "code",
      "source": [
        "precision_score(testData['sentiment'].values, prediction_linear,average='weighted')"
      ],
      "metadata": {
        "id": "PVrPE70RVkUa",
        "colab": {
          "base_uri": "https://localhost:8080/"
        },
        "outputId": "7ac9c21f-55a7-4c1a-e734-227433252c29"
      },
      "execution_count": null,
      "outputs": [
        {
          "output_type": "execute_result",
          "data": {
            "text/plain": [
              "0.923964694658194"
            ]
          },
          "metadata": {},
          "execution_count": 22
        }
      ]
    },
    {
      "cell_type": "code",
      "source": [
        "f1_score(testData['sentiment'].values, prediction_linear,average='weighted')"
      ],
      "metadata": {
        "id": "PZE59uUKVnnm",
        "colab": {
          "base_uri": "https://localhost:8080/"
        },
        "outputId": "afd93eed-b33f-426f-bd56-a7b01d8b830c"
      },
      "execution_count": null,
      "outputs": [
        {
          "output_type": "execute_result",
          "data": {
            "text/plain": [
              "0.9150285454986464"
            ]
          },
          "metadata": {},
          "execution_count": 23
        }
      ]
    },
    {
      "cell_type": "code",
      "source": [
        "accuracy_score(testData['sentiment'].values, prediction_linear)"
      ],
      "metadata": {
        "id": "IniSmXIcV2oU",
        "colab": {
          "base_uri": "https://localhost:8080/"
        },
        "outputId": "e81d1892-1e3e-46fe-d6cc-a63cac046e9b"
      },
      "execution_count": null,
      "outputs": [
        {
          "output_type": "execute_result",
          "data": {
            "text/plain": [
              "0.9206971677559913"
            ]
          },
          "metadata": {},
          "execution_count": 24
        }
      ]
    },
    {
      "cell_type": "code",
      "source": [
        "confusion_matrix(testData['sentiment'].values, prediction_linear)"
      ],
      "metadata": {
        "id": "pO9Zj2dbV7TV",
        "colab": {
          "base_uri": "https://localhost:8080/"
        },
        "outputId": "35f29b28-d38d-4e0a-c516-77f525dec8fa"
      },
      "execution_count": null,
      "outputs": [
        {
          "output_type": "execute_result",
          "data": {
            "text/plain": [
              "array([[  87,   63,    9],\n",
              "       [   1, 1686,    7],\n",
              "       [   2,  100,  340]])"
            ]
          },
          "metadata": {},
          "execution_count": 25
        }
      ]
    },
    {
      "cell_type": "markdown",
      "source": [
        "##Sentimental Analysis - Naive Bayes Classifier"
      ],
      "metadata": {
        "id": "X_0FzbXsWSEw"
      }
    },
    {
      "cell_type": "code",
      "source": [
        "vec = CountVectorizer()"
      ],
      "metadata": {
        "id": "UPQHuQaWWSeg"
      },
      "execution_count": null,
      "outputs": []
    },
    {
      "cell_type": "code",
      "source": [
        "train_vector_1 = vec.fit_transform(trainData['clean tweet']).toarray()\n",
        "test_vector_1 = vec.transform(testData['clean tweet']).toarray()"
      ],
      "metadata": {
        "id": "Qv7fZHLNXqYZ"
      },
      "execution_count": null,
      "outputs": []
    },
    {
      "cell_type": "code",
      "source": [
        "model = MultinomialNB()"
      ],
      "metadata": {
        "id": "k1mAl68GX_Da"
      },
      "execution_count": null,
      "outputs": []
    },
    {
      "cell_type": "code",
      "source": [
        "model.fit(train_vector_1, trainData['sentiment'])"
      ],
      "metadata": {
        "id": "8NCH8q4nZpOF",
        "colab": {
          "base_uri": "https://localhost:8080/"
        },
        "outputId": "c86c0e51-2365-4f4b-d563-1775910c3503"
      },
      "execution_count": null,
      "outputs": [
        {
          "output_type": "execute_result",
          "data": {
            "text/plain": [
              "MultinomialNB()"
            ]
          },
          "metadata": {},
          "execution_count": 29
        }
      ]
    },
    {
      "cell_type": "code",
      "source": [
        "prediction_1 = model.predict(test_vector_1)"
      ],
      "metadata": {
        "id": "4bbLyvplZ8bB"
      },
      "execution_count": null,
      "outputs": []
    },
    {
      "cell_type": "code",
      "source": [
        "classification_report(testData['sentiment'], prediction_1, output_dict=True)"
      ],
      "metadata": {
        "id": "3u-EI_cFaneJ",
        "colab": {
          "base_uri": "https://localhost:8080/"
        },
        "outputId": "5c7ee166-f7e5-41c9-eb04-c3849cd3f323"
      },
      "execution_count": null,
      "outputs": [
        {
          "output_type": "execute_result",
          "data": {
            "text/plain": [
              "{'negative': {'precision': 0.8548387096774194,\n",
              "  'recall': 0.3333333333333333,\n",
              "  'f1-score': 0.47963800904977366,\n",
              "  'support': 159},\n",
              " 'neutral': {'precision': 0.8935108153078203,\n",
              "  'recall': 0.9510035419126328,\n",
              "  'f1-score': 0.9213611667143266,\n",
              "  'support': 1694},\n",
              " 'positive': {'precision': 0.7488372093023256,\n",
              "  'recall': 0.7285067873303167,\n",
              "  'f1-score': 0.7385321100917431,\n",
              "  'support': 442},\n",
              " 'accuracy': 0.865359477124183,\n",
              " 'macro avg': {'precision': 0.8323955780958551,\n",
              "  'recall': 0.6709478875254277,\n",
              "  'f1-score': 0.7131770952852811,\n",
              "  'support': 2295},\n",
              " 'weighted avg': {'precision': 0.8629685065280109,\n",
              "  'recall': 0.865359477124183,\n",
              "  'f1-score': 0.8555466024024111,\n",
              "  'support': 2295}}"
            ]
          },
          "metadata": {},
          "execution_count": 31
        }
      ]
    },
    {
      "cell_type": "code",
      "source": [
        "recall_score(testData['sentiment'].values, prediction_1,average='weighted')"
      ],
      "metadata": {
        "id": "SGgQQgYna38X",
        "colab": {
          "base_uri": "https://localhost:8080/"
        },
        "outputId": "fed819c1-dd9b-487b-83ab-41c47dc1a743"
      },
      "execution_count": null,
      "outputs": [
        {
          "output_type": "execute_result",
          "data": {
            "text/plain": [
              "0.865359477124183"
            ]
          },
          "metadata": {},
          "execution_count": 32
        }
      ]
    },
    {
      "cell_type": "code",
      "source": [
        "precision_score(testData['sentiment'].values, prediction_1,average='weighted')"
      ],
      "metadata": {
        "id": "oOduV0D4a8jR",
        "colab": {
          "base_uri": "https://localhost:8080/"
        },
        "outputId": "a8cabc21-f09e-4ce0-ca7c-cfd053e0b419"
      },
      "execution_count": null,
      "outputs": [
        {
          "output_type": "execute_result",
          "data": {
            "text/plain": [
              "0.8629685065280109"
            ]
          },
          "metadata": {},
          "execution_count": 33
        }
      ]
    },
    {
      "cell_type": "code",
      "source": [
        "f1_score(testData['sentiment'].values, prediction_1,average='weighted')"
      ],
      "metadata": {
        "id": "evuhdkb_bAE5",
        "colab": {
          "base_uri": "https://localhost:8080/"
        },
        "outputId": "9424dbec-2e81-4a2f-ce34-0a6364d26181"
      },
      "execution_count": null,
      "outputs": [
        {
          "output_type": "execute_result",
          "data": {
            "text/plain": [
              "0.8555466024024111"
            ]
          },
          "metadata": {},
          "execution_count": 34
        }
      ]
    },
    {
      "cell_type": "code",
      "source": [
        "accuracy_score(testData['sentiment'].values, prediction_1)"
      ],
      "metadata": {
        "id": "N78FGk70as6o",
        "colab": {
          "base_uri": "https://localhost:8080/"
        },
        "outputId": "f4303c00-dab8-4a7f-a51d-a70aa75bf261"
      },
      "execution_count": null,
      "outputs": [
        {
          "output_type": "execute_result",
          "data": {
            "text/plain": [
              "0.865359477124183"
            ]
          },
          "metadata": {},
          "execution_count": 35
        }
      ]
    },
    {
      "cell_type": "code",
      "source": [
        "confusion_matrix(testData['sentiment'].values, prediction_1)"
      ],
      "metadata": {
        "id": "8Zsw1X7pazSm",
        "colab": {
          "base_uri": "https://localhost:8080/"
        },
        "outputId": "f9692a8d-33ec-4d12-d5f6-38771712995d"
      },
      "execution_count": null,
      "outputs": [
        {
          "output_type": "execute_result",
          "data": {
            "text/plain": [
              "array([[  53,   75,   31],\n",
              "       [   6, 1611,   77],\n",
              "       [   3,  117,  322]])"
            ]
          },
          "metadata": {},
          "execution_count": 36
        }
      ]
    },
    {
      "cell_type": "markdown",
      "source": [
        "## - Decision Tree\n",
        "\n",
        "```\n",
        "# Uses Bag of words feature\n",
        "```\n",
        "\n"
      ],
      "metadata": {
        "id": "UGipx3_mvHdF"
      }
    },
    {
      "cell_type": "markdown",
      "source": [
        "Decision Tree - Bag of words feature"
      ],
      "metadata": {
        "id": "s2jQr-vKuHhW"
      }
    },
    {
      "cell_type": "code",
      "source": [
        "dct = DecisionTreeClassifier(criterion='entropy', random_state=1)"
      ],
      "metadata": {
        "id": "u5G2BFoDwE2B"
      },
      "execution_count": null,
      "outputs": []
    },
    {
      "cell_type": "code",
      "source": [
        "dct.fit(train_vectors, trainData['sentiment'])"
      ],
      "metadata": {
        "id": "26E4jRjUwLEs",
        "colab": {
          "base_uri": "https://localhost:8080/"
        },
        "outputId": "3144f722-cce6-4992-d34f-2c94a1293c7b"
      },
      "execution_count": null,
      "outputs": [
        {
          "output_type": "execute_result",
          "data": {
            "text/plain": [
              "DecisionTreeClassifier(criterion='entropy', random_state=1)"
            ]
          },
          "metadata": {},
          "execution_count": 38
        }
      ]
    },
    {
      "cell_type": "code",
      "source": [
        "pred_class = dct.predict(test_vectors)"
      ],
      "metadata": {
        "id": "jA02JZLLw3eW"
      },
      "execution_count": null,
      "outputs": []
    },
    {
      "cell_type": "code",
      "source": [
        "print(classification_report(testData['sentiment'], pred_class))"
      ],
      "metadata": {
        "id": "gGgx0x3jxAKw",
        "colab": {
          "base_uri": "https://localhost:8080/"
        },
        "outputId": "9b3d27cb-1c59-493a-fea0-ae9cfc157b76"
      },
      "execution_count": null,
      "outputs": [
        {
          "output_type": "execute_result",
          "data": {
            "text/plain": [
              "{'negative': {'precision': 0.8947368421052632,\n",
              "  'recall': 0.7484276729559748,\n",
              "  'f1-score': 0.815068493150685,\n",
              "  'support': 159},\n",
              " 'neutral': {'precision': 0.9588100686498856,\n",
              "  'recall': 0.9893742621015348,\n",
              "  'f1-score': 0.9738524113887275,\n",
              "  'support': 1694},\n",
              " 'positive': {'precision': 0.9396135265700483,\n",
              "  'recall': 0.8800904977375565,\n",
              "  'f1-score': 0.9088785046728971,\n",
              "  'support': 442},\n",
              " 'accuracy': 0.9516339869281045,\n",
              " 'macro avg': {'precision': 0.931053479108399,\n",
              "  'recall': 0.8726308109316886,\n",
              "  'f1-score': 0.8992664697374364,\n",
              "  'support': 2295},\n",
              " 'weighted avg': {'precision': 0.950673896702224,\n",
              "  'recall': 0.9516339869281045,\n",
              "  'f1-score': 0.9503382023393829,\n",
              "  'support': 2295}}"
            ]
          },
          "metadata": {},
          "execution_count": 40
        }
      ]
    },
    {
      "cell_type": "code",
      "source": [
        "recall_score(testData['sentiment'].values, prediction_1,average='weighted')"
      ],
      "metadata": {
        "id": "cMZ-oZAiyMI9",
        "colab": {
          "base_uri": "https://localhost:8080/"
        },
        "outputId": "58298220-db2d-4ce2-b048-621b31b82287"
      },
      "execution_count": null,
      "outputs": [
        {
          "output_type": "execute_result",
          "data": {
            "text/plain": [
              "0.865359477124183"
            ]
          },
          "metadata": {},
          "execution_count": 41
        }
      ]
    },
    {
      "cell_type": "code",
      "source": [
        "precision_score(testData['sentiment'].values, prediction_1,average='weighted')"
      ],
      "metadata": {
        "id": "OfjDiwmQyOg1",
        "colab": {
          "base_uri": "https://localhost:8080/"
        },
        "outputId": "838fceed-e792-4a21-f5fe-cb8e79217455"
      },
      "execution_count": null,
      "outputs": [
        {
          "output_type": "execute_result",
          "data": {
            "text/plain": [
              "0.8629685065280109"
            ]
          },
          "metadata": {},
          "execution_count": 42
        }
      ]
    },
    {
      "cell_type": "code",
      "source": [
        "f1_score(testData['sentiment'].values, prediction_1,average='weighted')"
      ],
      "metadata": {
        "id": "NawApYnfyQtc",
        "colab": {
          "base_uri": "https://localhost:8080/"
        },
        "outputId": "61318ea7-6007-49fe-d880-63ef1641b10d"
      },
      "execution_count": null,
      "outputs": [
        {
          "output_type": "execute_result",
          "data": {
            "text/plain": [
              "0.8555466024024111"
            ]
          },
          "metadata": {},
          "execution_count": 43
        }
      ]
    },
    {
      "cell_type": "code",
      "source": [
        "accuracy_score(testData['sentiment'].values, pred_class)"
      ],
      "metadata": {
        "id": "In44YiMJx6Be",
        "colab": {
          "base_uri": "https://localhost:8080/"
        },
        "outputId": "05d4bf41-d30f-4ec2-f79a-1ad8c6f48db1"
      },
      "execution_count": null,
      "outputs": [
        {
          "output_type": "execute_result",
          "data": {
            "text/plain": [
              "0.9516339869281045"
            ]
          },
          "metadata": {},
          "execution_count": 44
        }
      ]
    },
    {
      "cell_type": "code",
      "source": [
        "confusion_matrix(testData['sentiment'].values, pred_class)"
      ],
      "metadata": {
        "id": "yZw5WHpQyBV7",
        "colab": {
          "base_uri": "https://localhost:8080/"
        },
        "outputId": "766a0fe3-b793-4c43-d718-cdbc9e548b8d"
      },
      "execution_count": null,
      "outputs": [
        {
          "output_type": "execute_result",
          "data": {
            "text/plain": [
              "array([[ 119,   26,   14],\n",
              "       [   7, 1676,   11],\n",
              "       [   7,   46,  389]])"
            ]
          },
          "metadata": {},
          "execution_count": 45
        }
      ]
    },
    {
      "cell_type": "markdown",
      "source": [
        "Pickling the vectorizer"
      ],
      "metadata": {
        "id": "alb1aMwUz9eV"
      }
    },
    {
      "cell_type": "code",
      "source": [
        "'''pickle.dump(vectorizer, open('models/tfid-vectorizer.sav', 'wb'))\n",
        "\n",
        "\n",
        "pickle.dump(vec, open('models/count-vectorizer.sav', 'wb'))'''"
      ],
      "metadata": {
        "id": "XL7iRSY8z_8X",
        "colab": {
          "base_uri": "https://localhost:8080/",
          "height": 36
        },
        "outputId": "423617f7-2012-4cb3-f2ec-2c48d568cd99"
      },
      "execution_count": null,
      "outputs": [
        {
          "output_type": "execute_result",
          "data": {
            "text/plain": [
              "\"pickle.dump(vectorizer, open('models/tfid-vectorizer.sav', 'wb'))\\n\\n\\npickle.dump(vec, open('models/count-vectorizer.sav', 'wb'))\""
            ],
            "application/vnd.google.colaboratory.intrinsic+json": {
              "type": "string"
            }
          },
          "metadata": {},
          "execution_count": 47
        }
      ]
    },
    {
      "cell_type": "markdown",
      "source": [
        "##LSTM"
      ],
      "metadata": {
        "id": "3qHMrZ-sbplr"
      }
    },
    {
      "cell_type": "code",
      "source": [
        "# setting device on GPU if available, else CPU\n",
        "device = torch.device('cuda' if torch.cuda.is_available() else 'cpu')\n",
        "print('Using device:', device)\n",
        "print()\n",
        "\n",
        "#Additional Info when using cuda\n",
        "if device.type == 'cuda':\n",
        "    print(torch.cuda.get_device_name(0))\n",
        "    print('Memory Usage:')\n",
        "    print('Allocated:', round(torch.cuda.memory_allocated(0)/1024**3,1), 'GB')\n",
        "    print('Cached:   ', round(torch.cuda.memory_reserved(0)/1024**3,1), 'GB')"
      ],
      "metadata": {
        "id": "i9BIj3Qdqjfe",
        "colab": {
          "base_uri": "https://localhost:8080/"
        },
        "outputId": "7386802a-11f6-42dd-8951-b35f41ef7281"
      },
      "execution_count": null,
      "outputs": [
        {
          "output_type": "stream",
          "name": "stdout",
          "text": [
            "Using device: cpu\n",
            "\n"
          ]
        }
      ]
    },
    {
      "cell_type": "code",
      "source": [
        "tokenizer = Tokenizer( split=' ') \n",
        "tokenizer.fit_on_texts(df2['clean tweet'].values)\n",
        "X = tokenizer.texts_to_sequences(df2['clean tweet'].values)\n",
        "X = pad_sequences(X)"
      ],
      "metadata": {
        "id": "b7qEo5D_fBMd"
      },
      "execution_count": null,
      "outputs": []
    },
    {
      "cell_type": "code",
      "source": [
        "X.shape"
      ],
      "metadata": {
        "id": "BeEEviLQluvN",
        "colab": {
          "base_uri": "https://localhost:8080/"
        },
        "outputId": "26488762-9965-4dd7-bbe6-3dcc909c934c"
      },
      "execution_count": null,
      "outputs": [
        {
          "output_type": "execute_result",
          "data": {
            "text/plain": [
              "(7647, 20)"
            ]
          },
          "metadata": {},
          "execution_count": 50
        }
      ]
    },
    {
      "cell_type": "code",
      "source": [
        "model1 = Sequential()\n",
        "model1.add(Embedding(15000, 64, input_length = X.shape[1] ))\n",
        "model1.add(SpatialDropout1D(0.4))\n",
        "model1.add(LSTM(176, dropout=0.2, recurrent_dropout=0.2))\n",
        "model1.add(Dense(3,activation='softmax'))\n",
        "model1.compile(loss = 'categorical_crossentropy', optimizer='adam', metrics = ['accuracy'])\n",
        "print(model1.summary())"
      ],
      "metadata": {
        "id": "P_Nw3qABf9MH",
        "colab": {
          "base_uri": "https://localhost:8080/"
        },
        "outputId": "9b64827e-d770-4e29-9d5b-0c1c01aab31f"
      },
      "execution_count": null,
      "outputs": [
        {
          "output_type": "stream",
          "name": "stdout",
          "text": [
            "Model: \"sequential\"\n",
            "_________________________________________________________________\n",
            " Layer (type)                Output Shape              Param #   \n",
            "=================================================================\n",
            " embedding (Embedding)       (None, 20, 64)            960000    \n",
            "                                                                 \n",
            " spatial_dropout1d (SpatialD  (None, 20, 64)           0         \n",
            " ropout1D)                                                       \n",
            "                                                                 \n",
            " lstm (LSTM)                 (None, 176)               169664    \n",
            "                                                                 \n",
            " dense (Dense)               (None, 3)                 531       \n",
            "                                                                 \n",
            "=================================================================\n",
            "Total params: 1,130,195\n",
            "Trainable params: 1,130,195\n",
            "Non-trainable params: 0\n",
            "_________________________________________________________________\n",
            "None\n"
          ]
        }
      ]
    },
    {
      "cell_type": "code",
      "source": [
        "y=pd.get_dummies(df2['sentiment'])\n",
        "X_train, X_test, y_train, y_test = train_test_split(X,y, test_size = 0.35, random_state = 42)\n",
        "X.shape"
      ],
      "metadata": {
        "id": "KEWJO7SUkmZ5",
        "colab": {
          "base_uri": "https://localhost:8080/"
        },
        "outputId": "8ec06a0f-ae82-4321-cc97-b6e02d8c3f4f"
      },
      "execution_count": null,
      "outputs": [
        {
          "output_type": "execute_result",
          "data": {
            "text/plain": [
              "(7647, 20)"
            ]
          },
          "metadata": {},
          "execution_count": 52
        }
      ]
    },
    {
      "cell_type": "code",
      "source": [
        "X_train.shape\n"
      ],
      "metadata": {
        "id": "ktMbdHlmhGXR",
        "colab": {
          "base_uri": "https://localhost:8080/"
        },
        "outputId": "63eaa13a-c790-4038-b38c-3cdb26418938"
      },
      "execution_count": null,
      "outputs": [
        {
          "output_type": "execute_result",
          "data": {
            "text/plain": [
              "(4970, 20)"
            ]
          },
          "metadata": {},
          "execution_count": 53
        }
      ]
    },
    {
      "cell_type": "code",
      "source": [
        "y_train.shape"
      ],
      "metadata": {
        "id": "r-mt7gwfhLC2",
        "colab": {
          "base_uri": "https://localhost:8080/"
        },
        "outputId": "f798cb8e-30bc-4685-9527-417b214059b0"
      },
      "execution_count": null,
      "outputs": [
        {
          "output_type": "execute_result",
          "data": {
            "text/plain": [
              "(4970, 3)"
            ]
          },
          "metadata": {},
          "execution_count": 54
        }
      ]
    },
    {
      "cell_type": "code",
      "source": [
        "batch_size=32\n",
        "model1.fit(X_train, y_train, epochs = 10, batch_size=batch_size, )"
      ],
      "metadata": {
        "id": "TbBXAletgW6Y",
        "colab": {
          "base_uri": "https://localhost:8080/"
        },
        "outputId": "50fd95ac-1370-4aa2-b646-05c9caadd6af"
      },
      "execution_count": null,
      "outputs": [
        {
          "output_type": "stream",
          "name": "stdout",
          "text": [
            "Epoch 1/10\n",
            "156/156 [==============================] - 28s 128ms/step - loss: 0.7146 - accuracy: 0.7342\n",
            "Epoch 2/10\n",
            "156/156 [==============================] - 17s 110ms/step - loss: 0.3849 - accuracy: 0.8676\n",
            "Epoch 3/10\n",
            "156/156 [==============================] - 14s 87ms/step - loss: 0.1809 - accuracy: 0.9320\n",
            "Epoch 4/10\n",
            "156/156 [==============================] - 15s 99ms/step - loss: 0.1026 - accuracy: 0.9668\n",
            "Epoch 5/10\n",
            "156/156 [==============================] - 14s 87ms/step - loss: 0.0590 - accuracy: 0.9837\n",
            "Epoch 6/10\n",
            "156/156 [==============================] - 15s 95ms/step - loss: 0.0347 - accuracy: 0.9907\n",
            "Epoch 7/10\n",
            "156/156 [==============================] - 14s 90ms/step - loss: 0.0206 - accuracy: 0.9950\n",
            "Epoch 8/10\n",
            "156/156 [==============================] - 17s 106ms/step - loss: 0.0117 - accuracy: 0.9980\n",
            "Epoch 9/10\n",
            "156/156 [==============================] - 15s 94ms/step - loss: 0.0144 - accuracy: 0.9976\n",
            "Epoch 10/10\n",
            "156/156 [==============================] - 14s 87ms/step - loss: 0.0053 - accuracy: 0.9988\n"
          ]
        },
        {
          "output_type": "execute_result",
          "data": {
            "text/plain": [
              "<keras.callbacks.History at 0x7f7e6c03ca90>"
            ]
          },
          "metadata": {},
          "execution_count": 55
        }
      ]
    },
    {
      "cell_type": "code",
      "source": [
        "model1.evaluate(X_test,y_test)"
      ],
      "metadata": {
        "id": "Ial430ZHyk5H",
        "colab": {
          "base_uri": "https://localhost:8080/"
        },
        "outputId": "688e9148-38a6-4e33-8fcf-707f570f4ebc"
      },
      "execution_count": null,
      "outputs": [
        {
          "output_type": "stream",
          "name": "stdout",
          "text": [
            "84/84 [==============================] - 1s 12ms/step - loss: 0.4866 - accuracy: 0.9025\n"
          ]
        },
        {
          "output_type": "execute_result",
          "data": {
            "text/plain": [
              "[0.4866143465042114, 0.9025027751922607]"
            ]
          },
          "metadata": {},
          "execution_count": 56
        }
      ]
    },
    {
      "cell_type": "markdown",
      "source": [
        "#"
      ],
      "metadata": {
        "id": "rfvp1Qziosz4"
      }
    }
  ]
}