{
  "nbformat": 4,
  "nbformat_minor": 0,
  "metadata": {
    "colab": {
      "provenance": []
    },
    "kernelspec": {
      "name": "python3",
      "display_name": "Python 3"
    },
    "language_info": {
      "name": "python"
    }
  },
  "cells": [
    {
      "cell_type": "code",
      "source": [
        "!pip install GoogleNews"
      ],
      "metadata": {
        "colab": {
          "base_uri": "https://localhost:8080/"
        },
        "id": "OIXmdoYB2uPQ",
        "outputId": "f44f1fc6-bd57-47d4-85d3-2000fb2344ea"
      },
      "execution_count": 1,
      "outputs": [
        {
          "output_type": "stream",
          "name": "stdout",
          "text": [
            "Looking in indexes: https://pypi.org/simple, https://us-python.pkg.dev/colab-wheels/public/simple/\n",
            "Collecting GoogleNews\n",
            "  Downloading GoogleNews-1.6.5-py3-none-any.whl (8.0 kB)\n",
            "Requirement already satisfied: beautifulsoup4 in /usr/local/lib/python3.7/dist-packages (from GoogleNews) (4.6.3)\n",
            "Requirement already satisfied: python-dateutil in /usr/local/lib/python3.7/dist-packages (from GoogleNews) (2.8.2)\n",
            "Collecting dateparser\n",
            "  Downloading dateparser-1.1.3-py2.py3-none-any.whl (292 kB)\n",
            "\u001b[K     |████████████████████████████████| 292 kB 7.0 MB/s \n",
            "\u001b[?25hRequirement already satisfied: tzlocal in /usr/local/lib/python3.7/dist-packages (from dateparser->GoogleNews) (1.5.1)\n",
            "Requirement already satisfied: pytz in /usr/local/lib/python3.7/dist-packages (from dateparser->GoogleNews) (2022.6)\n",
            "Collecting regex!=2019.02.19,!=2021.8.27,<2022.3.15\n",
            "  Downloading regex-2022.3.2-cp37-cp37m-manylinux_2_17_x86_64.manylinux2014_x86_64.whl (749 kB)\n",
            "\u001b[K     |████████████████████████████████| 749 kB 41.2 MB/s \n",
            "\u001b[?25hRequirement already satisfied: six>=1.5 in /usr/local/lib/python3.7/dist-packages (from python-dateutil->GoogleNews) (1.15.0)\n",
            "Installing collected packages: regex, dateparser, GoogleNews\n",
            "  Attempting uninstall: regex\n",
            "    Found existing installation: regex 2022.6.2\n",
            "    Uninstalling regex-2022.6.2:\n",
            "      Successfully uninstalled regex-2022.6.2\n",
            "Successfully installed GoogleNews-1.6.5 dateparser-1.1.3 regex-2022.3.2\n"
          ]
        }
      ]
    },
    {
      "cell_type": "code",
      "source": [
        "!pip install newspaper"
      ],
      "metadata": {
        "colab": {
          "base_uri": "https://localhost:8080/"
        },
        "id": "W57YYEgs21Vs",
        "outputId": "ca7aa050-10b9-454f-f285-d9328e8ecac1"
      },
      "execution_count": 2,
      "outputs": [
        {
          "output_type": "stream",
          "name": "stdout",
          "text": [
            "Looking in indexes: https://pypi.org/simple, https://us-python.pkg.dev/colab-wheels/public/simple/\n",
            "Collecting newspaper\n",
            "  Downloading newspaper-0.1.0.7.tar.gz (176 kB)\n",
            "\u001b[K     |████████████████████████████████| 176 kB 6.9 MB/s \n",
            "\u001b[33mWARNING: Discarding https://files.pythonhosted.org/packages/d8/07/5765cc9c36e2be1a0f0e615b7a092129e1ba30a25182506dea437290c193/newspaper-0.1.0.7.tar.gz#sha256=929ea447660d2633d3eea6c2aba703b549f7cdd56bd5cf636eb8f1454b254945 (from https://pypi.org/simple/newspaper/). Command errored out with exit status 1: python setup.py egg_info Check the logs for full command output.\u001b[0m\n",
            "\u001b[?25h  Downloading newspaper-0.1.0.6.tar.gz (176 kB)\n",
            "\u001b[K     |████████████████████████████████| 176 kB 49.9 MB/s \n",
            "\u001b[?25hCollecting beautifulsoup4==4.3.2\n",
            "  Downloading beautifulsoup4-4.3.2.tar.gz (143 kB)\n",
            "\u001b[K     |████████████████████████████████| 143 kB 48.0 MB/s \n",
            "\u001b[?25hCollecting Pillow==2.5.1\n",
            "  Downloading Pillow-2.5.1.zip (6.9 MB)\n",
            "\u001b[K     |████████████████████████████████| 6.9 MB 36.2 MB/s \n",
            "\u001b[?25hCollecting PyYAML==3.11\n",
            "  Downloading PyYAML-3.11.zip (371 kB)\n",
            "\u001b[K     |████████████████████████████████| 371 kB 43.9 MB/s \n",
            "\u001b[?25hCollecting cssselect==0.9.1\n",
            "  Downloading cssselect-0.9.1.tar.gz (32 kB)\n",
            "Collecting lxml==3.3.5\n",
            "  Downloading lxml-3.3.5.tar.gz (3.5 MB)\n",
            "\u001b[K     |████████████████████████████████| 3.5 MB 33.6 MB/s \n",
            "\u001b[?25hCollecting nltk==2.0.5\n",
            "  Downloading nltk-2.0.5.zip (1.1 MB)\n",
            "\u001b[K     |████████████████████████████████| 1.1 MB 46.5 MB/s \n",
            "\u001b[33mWARNING: Discarding https://files.pythonhosted.org/packages/61/32/c7d454c7d232034dfb492b6ef5d749b367c58e0a0f2ed4125eb4089b9227/nltk-2.0.5.zip#sha256=edbeb82d03ef6fe24d4ec8380998d23cb2e36eb43350c9f33e932fe07de42cd5 (from https://pypi.org/simple/nltk/). Command errored out with exit status 1: python setup.py egg_info Check the logs for full command output.\u001b[0m\n",
            "\u001b[?25h  Downloading nltk-2.0.5.tar.gz (954 kB)\n",
            "\u001b[K     |████████████████████████████████| 954 kB 54.0 MB/s \n",
            "\u001b[33mWARNING: Discarding https://files.pythonhosted.org/packages/50/9e/39418026bf8013bbc2852c7aec3fb21e4339f6cd694934496d67a19b53b8/nltk-2.0.5.tar.gz#sha256=590b1752fb39427ad8018a65f72355c22e8276d476699aa4a488e38c1b17889a (from https://pypi.org/simple/nltk/). Command errored out with exit status 1: python setup.py egg_info Check the logs for full command output.\u001b[0m\n",
            "\u001b[?25hCollecting newspaper\n",
            "  Downloading newspaper-0.1.0.5.tar.gz (49 kB)\n",
            "\u001b[K     |████████████████████████████████| 49 kB 5.2 MB/s \n",
            "\u001b[33mWARNING: Discarding https://files.pythonhosted.org/packages/57/21/35a7e7040e70a628b526c6830e6f506868f54dcaadffbe57cb3d393af5cb/newspaper-0.1.0.5.tar.gz#sha256=b346e615f5a0c8ac5ab1ebab2420ad24fda7fc78198cae32f1b3fed640dde788 (from https://pypi.org/simple/newspaper/). Command errored out with exit status 1: python setup.py egg_info Check the logs for full command output.\u001b[0m\n",
            "\u001b[?25h  Downloading newspaper-0.1.0.4.tar.gz (49 kB)\n",
            "\u001b[K     |████████████████████████████████| 49 kB 4.8 MB/s \n",
            "\u001b[33mWARNING: Discarding https://files.pythonhosted.org/packages/da/a3/88885ac6e2f65b84f23511da21bdd486d63d2a035d0adab6e4ef89cd4c25/newspaper-0.1.0.4.tar.gz#sha256=927edcccb7d57905fbd24fde4fb3879ffcc59d082877ac7c40963f795372cb67 (from https://pypi.org/simple/newspaper/). Command errored out with exit status 1: python setup.py egg_info Check the logs for full command output.\u001b[0m\n",
            "\u001b[?25h  Downloading newspaper-0.1.0.3.tar.gz (49 kB)\n",
            "\u001b[K     |████████████████████████████████| 49 kB 3.2 MB/s \n",
            "\u001b[33mWARNING: Discarding https://files.pythonhosted.org/packages/4f/59/140bdf8b9413c552fdfa73eb01b6622eaa8ed62ded2f390c4062b58f58bb/newspaper-0.1.0.3.tar.gz#sha256=d2eb46563c973a4046e82580d6193df42b86bff12cbfcb39e9780b0f7dc24595 (from https://pypi.org/simple/newspaper/). Command errored out with exit status 1: python setup.py egg_info Check the logs for full command output.\u001b[0m\n",
            "\u001b[?25h  Downloading newspaper-0.1.0.2.tar.gz (180 kB)\n",
            "\u001b[K     |████████████████████████████████| 180 kB 45.3 MB/s \n",
            "\u001b[?25h  Downloading newspaper-0.1.0.1.tar.gz (49 kB)\n",
            "\u001b[K     |████████████████████████████████| 49 kB 190 kB/s \n",
            "\u001b[33mWARNING: Discarding https://files.pythonhosted.org/packages/9c/57/e6af9770c3241725fbf7a79c6f2954988947202e2cab01cdf53457f039a8/newspaper-0.1.0.1.tar.gz#sha256=bc40cf56e35f0c6fe79b77f3a4c84a950de9f66559a51bd280e3c363796afc75 (from https://pypi.org/simple/newspaper/). Command errored out with exit status 1: python setup.py egg_info Check the logs for full command output.\u001b[0m\n",
            "\u001b[?25h  Downloading newspaper-0.1.0.0.tar.gz (49 kB)\n",
            "\u001b[K     |████████████████████████████████| 49 kB 4.7 MB/s \n",
            "\u001b[33mWARNING: Discarding https://files.pythonhosted.org/packages/be/7b/a34b526cf37727ef353ff46217173a67a598fbbf3d8dbd80b899e51af45c/newspaper-0.1.0.0.tar.gz#sha256=8c71680c09c39642be06d632149fe0e44a93ae5494e9f98c19fc79d6d21817bf (from https://pypi.org/simple/newspaper/). Command errored out with exit status 1: python setup.py egg_info Check the logs for full command output.\u001b[0m\n",
            "\u001b[?25h  Downloading newspaper-0.0.9.9.tar.gz (49 kB)\n",
            "\u001b[K     |████████████████████████████████| 49 kB 4.7 MB/s \n",
            "\u001b[33mWARNING: Discarding https://files.pythonhosted.org/packages/ad/b6/02023ed7543c280cbd18eef61502b97f63eed842a1414f7596e370a97362/newspaper-0.0.9.9.tar.gz#sha256=e2449afd697d9280c78301e4d1e385fd7d6dc73e0a4a130c35f0e909f1804402 (from https://pypi.org/simple/newspaper/). Command errored out with exit status 1: python setup.py egg_info Check the logs for full command output.\u001b[0m\n",
            "\u001b[?25h  Downloading newspaper-0.0.9.8.tar.gz (248 kB)\n",
            "\u001b[K     |████████████████████████████████| 248 kB 38.9 MB/s \n",
            "\u001b[?25h  Downloading newspaper-0.0.9.6.tar.gz (244 kB)\n",
            "\u001b[K     |████████████████████████████████| 244 kB 39.0 MB/s \n",
            "\u001b[?25hCollecting nltk==2.0.4\n",
            "  Downloading nltk-2.0.4.zip (1.1 MB)\n",
            "\u001b[K     |████████████████████████████████| 1.1 MB 20.1 MB/s \n",
            "\u001b[33mWARNING: Discarding https://files.pythonhosted.org/packages/25/a7/f8938bdf6f6d17e37e882b67f1362c0fdb6a8a609a69252b6033d6c546c5/nltk-2.0.4.zip#sha256=70936b0cf30710a1d63df152c3286af39af37b131cd176c0202e6665a8630632 (from https://pypi.org/simple/nltk/). Command errored out with exit status 1: python setup.py egg_info Check the logs for full command output.\u001b[0m\n",
            "\u001b[?25h  Downloading nltk-2.0.4.tar.gz (955 kB)\n",
            "\u001b[K     |████████████████████████████████| 955 kB 42.7 MB/s \n",
            "\u001b[33mWARNING: Discarding https://files.pythonhosted.org/packages/81/f6/30c4eb35ad7a4b5e9301943c8738b79ebb8152f0986e877f809b8e295c61/nltk-2.0.4.tar.gz#sha256=a554d6b9c5c7c8b597a090d8848a6f78c6fc4665ae43c9a6a6d6a5b207d98c65 (from https://pypi.org/simple/nltk/). Command errored out with exit status 1: python setup.py egg_info Check the logs for full command output.\u001b[0m\n",
            "\u001b[?25hCollecting newspaper\n",
            "  Downloading newspaper-0.0.9.5.tar.gz (244 kB)\n",
            "\u001b[K     |████████████████████████████████| 244 kB 35.3 MB/s \n",
            "\u001b[?25h  Downloading newspaper-0.0.9.2.tar.gz (242 kB)\n",
            "\u001b[K     |████████████████████████████████| 242 kB 43.1 MB/s \n",
            "\u001b[?25h  Downloading newspaper-0.0.9.1.tar.gz (760 kB)\n",
            "\u001b[K     |████████████████████████████████| 760 kB 42.5 MB/s \n",
            "\u001b[?25hCollecting BeautifulSoup==3.2.1\n",
            "  Downloading BeautifulSoup-3.2.1.tar.gz (31 kB)\n",
            "\u001b[33mWARNING: Discarding https://files.pythonhosted.org/packages/1e/ee/295988deca1a5a7accd783d0dfe14524867e31abb05b6c0eeceee49c759d/BeautifulSoup-3.2.1.tar.gz#sha256=6a8cb4401111e011b579c8c52a51cdab970041cc543814bbd9577a4529fe1cdb (from https://pypi.org/simple/beautifulsoup/). Command errored out with exit status 1: python setup.py egg_info Check the logs for full command output.\u001b[0m\n",
            "Collecting newspaper\n",
            "  Downloading newspaper-0.0.9.tar.gz (760 kB)\n",
            "\u001b[K     |████████████████████████████████| 760 kB 21.5 MB/s \n",
            "\u001b[?25h  Downloading newspaper-0.0.8.tar.gz (6.9 MB)\n",
            "\u001b[K     |████████████████████████████████| 6.9 MB 46.9 MB/s \n",
            "\u001b[?25hRequirement already satisfied: lxml in /usr/local/lib/python3.7/dist-packages (from newspaper) (4.9.1)\n",
            "Requirement already satisfied: requests in /usr/local/lib/python3.7/dist-packages (from newspaper) (2.23.0)\n",
            "Requirement already satisfied: nltk in /usr/local/lib/python3.7/dist-packages (from newspaper) (3.7)\n",
            "Requirement already satisfied: Pillow in /usr/local/lib/python3.7/dist-packages (from newspaper) (7.1.2)\n",
            "Collecting cssselect\n",
            "  Downloading cssselect-1.2.0-py2.py3-none-any.whl (18 kB)\n",
            "Collecting BeautifulSoup\n",
            "  Downloading BeautifulSoup-3.2.2.tar.gz (32 kB)\n",
            "\u001b[33mWARNING: Discarding https://files.pythonhosted.org/packages/40/f2/6c9f2f3e696ee6a1fb0e4d7850617e224ed2b0b1e872110abffeca2a09d4/BeautifulSoup-3.2.2.tar.gz#sha256=a04169602bff6e3138b1259dbbf491f5a27f9499dea9a8fbafd48843f9d89970 (from https://pypi.org/simple/beautifulsoup/). Command errored out with exit status 1: python setup.py egg_info Check the logs for full command output.\u001b[0m\n",
            "  Downloading BeautifulSoup-3.2.0.tar.gz (31 kB)\n",
            "\u001b[33mWARNING: Discarding https://files.pythonhosted.org/packages/33/fe/15326560884f20d792d3ffc7fe8f639aab88647c9d46509a240d9bfbb6b1/BeautifulSoup-3.2.0.tar.gz#sha256=0dc52d07516c1665c9dd9f0a390a7a054bfb7b147a50b2866fb116b8909dfd37 (from https://pypi.org/simple/beautifulsoup/). Command errored out with exit status 1: python setup.py egg_info Check the logs for full command output.\u001b[0m\n",
            "Collecting newspaper\n",
            "  Downloading newspaper-0.0.7.tar.gz (6.9 MB)\n",
            "\u001b[K     |████████████████████████████████| 6.9 MB 39.4 MB/s \n",
            "\u001b[33mWARNING: Discarding https://files.pythonhosted.org/packages/6f/ed/2a56827d9291bd27251d60bfd11affd3dce7d24ba929014bbd4975a17eca/newspaper-0.0.7.tar.gz#sha256=a29c39e9c1c142238249208aed07204047c4a0b1cdcc92138dc98953cf66f7c3 (from https://pypi.org/simple/newspaper/). Command errored out with exit status 1: python setup.py egg_info Check the logs for full command output.\u001b[0m\n",
            "\u001b[?25h  Downloading newspaper-0.0.6.tar.gz (7.0 MB)\n",
            "\u001b[K     |████████████████████████████████| 7.0 MB 41.5 MB/s \n",
            "\u001b[33mWARNING: Discarding https://files.pythonhosted.org/packages/d7/7f/ddcd5263d1fa14936786b01f62e75a4f806f98cb2255587af00ccb08b97b/newspaper-0.0.6.tar.gz#sha256=7bb92ecf4ef26dc3121b798e933dfc4cce3eb95d1d9e4ae01887231f12e30f9d (from https://pypi.org/simple/newspaper/). Command errored out with exit status 1: python setup.py egg_info Check the logs for full command output.\u001b[0m\n",
            "\u001b[?25h  Downloading newspaper-0.0.5.tar.gz (7.7 MB)\n",
            "\u001b[K     |████████████████████████████████| 7.7 MB 35.0 MB/s \n",
            "\u001b[33mWARNING: Discarding https://files.pythonhosted.org/packages/de/4b/3279534d13073ea8958edff3b97e39e853faec4436e1c9d805f9cf6e9f23/newspaper-0.0.5.tar.gz#sha256=7fe4fa9121bb07707fa2489479ab7994a056ca9cc3a848ed634d5537c7eaa0bc (from https://pypi.org/simple/newspaper/). Command errored out with exit status 1: python setup.py egg_info Check the logs for full command output.\u001b[0m\n",
            "\u001b[?25h  Downloading newspaper-0.0.4.tar.gz (6.7 MB)\n",
            "\u001b[K     |████████████████████████████████| 6.7 MB 38.6 MB/s \n",
            "\u001b[33mWARNING: Discarding https://files.pythonhosted.org/packages/44/10/cc8abed3de450ea2925601e29951eec9658a19f18572429cc29380ec7ac8/newspaper-0.0.4.tar.gz#sha256=359934ee0c47015687ac3b71d51c7d1a87e8b95ff96135bdbe5c4d2e2c20c735 (from https://pypi.org/simple/newspaper/). Command errored out with exit status 1: python setup.py egg_info Check the logs for full command output.\u001b[0m\n",
            "\u001b[?25h  Downloading newspaper-0.0.3.tar.gz (10.8 MB)\n",
            "\u001b[K     |████████████████████████████████| 10.8 MB 31.3 MB/s \n",
            "\u001b[?25hCollecting lxml==3.2.4\n",
            "  Downloading lxml-3.2.4.tar.gz (3.3 MB)\n",
            "\u001b[K     |████████████████████████████████| 3.3 MB 36.0 MB/s \n",
            "\u001b[?25hCollecting newspaper\n",
            "  Downloading newspaper-0.0.2.tar.gz (10.8 MB)\n",
            "\u001b[K     |████████████████████████████████| 10.8 MB 39.0 MB/s \n",
            "\u001b[33mWARNING: Discarding https://files.pythonhosted.org/packages/6f/d3/c73ee757a0d2cd493a7d1ad16482902761ca5be3a52d971bce0cbf17b6fd/newspaper-0.0.2.tar.gz#sha256=a94c0427bc20448242457873d9dddb8c872ce82a6fb342b90b72bec790a117ab (from https://pypi.org/simple/newspaper/). Command errored out with exit status 1: python setup.py egg_info Check the logs for full command output.\u001b[0m\n",
            "\u001b[31mERROR: Cannot install newspaper==0.0.3, newspaper==0.0.8, newspaper==0.0.9, newspaper==0.0.9.1, newspaper==0.0.9.2, newspaper==0.0.9.5, newspaper==0.0.9.6, newspaper==0.0.9.8, newspaper==0.1.0.2 and newspaper==0.1.0.6 because these package versions have conflicting dependencies.\u001b[0m\n",
            "\u001b[?25h\n",
            "The conflict is caused by:\n",
            "    newspaper 0.1.0.6 depends on nltk==2.0.5\n",
            "    newspaper 0.1.0.2 depends on nltk==2.0.5\n",
            "    newspaper 0.0.9.8 depends on nltk==2.0.5\n",
            "    newspaper 0.0.9.6 depends on nltk==2.0.4\n",
            "    newspaper 0.0.9.5 depends on nltk==2.0.4\n",
            "    newspaper 0.0.9.2 depends on nltk==2.0.4\n",
            "    newspaper 0.0.9.1 depends on BeautifulSoup==3.2.1\n",
            "    newspaper 0.0.9 depends on BeautifulSoup==3.2.1\n",
            "    newspaper 0.0.8 depends on BeautifulSoup\n",
            "    newspaper 0.0.3 depends on BeautifulSoup\n",
            "\n",
            "To fix this you could try to:\n",
            "1. loosen the range of package versions you've specified\n",
            "2. remove package versions to allow pip attempt to solve the dependency conflict\n",
            "\n",
            "\u001b[31mERROR: ResolutionImpossible: for help visit https://pip.pypa.io/en/latest/user_guide/#fixing-conflicting-dependencies\u001b[0m\n"
          ]
        }
      ]
    },
    {
      "cell_type": "code",
      "execution_count": 3,
      "metadata": {
        "id": "82L4GH3X2W7D"
      },
      "outputs": [],
      "source": [
        "from GoogleNews import GoogleNews\n",
        "import pandas as pd\n"
      ]
    },
    {
      "cell_type": "code",
      "source": [
        "googlenews=GoogleNews(start='01/01/2010',end='01/31/2021')\n",
        "googlenews.search('Cryptocurrency')\n",
        "result=googlenews.result()\n",
        "df=pd.DataFrame(result)\n"
      ],
      "metadata": {
        "id": "9aicWP7c3FlU"
      },
      "execution_count": 4,
      "outputs": []
    },
    {
      "cell_type": "code",
      "source": [
        "df"
      ],
      "metadata": {
        "colab": {
          "base_uri": "https://localhost:8080/",
          "height": 982
        },
        "id": "Vd2QWDtr3XBK",
        "outputId": "66061c1b-761b-4c3d-e0f8-3b2967b0818d"
      },
      "execution_count": 5,
      "outputs": [
        {
          "output_type": "execute_result",
          "data": {
            "text/plain": [
              "                                               title               media  \\\n",
              "0  Facebook Plans Global Financial System Based o...  The New York Times   \n",
              "1  Facebook Announces Plans For Libra, Its Own Cr...                 NPR   \n",
              "2  Libra: Facebook launches cryptocurrency in bid...        The Guardian   \n",
              "3  What was learned from cryptocurrency in 2017 a...     Information Age   \n",
              "4                        It's 1994 In Cryptocurrency              Forbes   \n",
              "5  Cryptocurrency investors locked out of $190m a...        The Guardian   \n",
              "6  France creates G7 cryptocurrency task force as...             Reuters   \n",
              "7  China’s Cryptocurrency Plan Has a Powerful Par...  The New York Times   \n",
              "8    The Future Of Cryptocurrency in 2019 and Beyond        Investopedia   \n",
              "9  How Cryptocurrencies Are Fueling Ransomware At...              Forbes   \n",
              "\n",
              "           date   datetime                                               desc  \\\n",
              "0  Jun 18, 2019 2019-06-18  The cryptocurrency, called Libra, will also ha...   \n",
              "1  Jun 18, 2019 2019-06-18  Cryptocurrency is digital money not issued by ...   \n",
              "2  Jun 19, 2019 2019-06-19  In a document outlining how the new cryptocurr...   \n",
              "3   an 17, 2018        NaT  1. Blockchain has passed the point of no retur...   \n",
              "4  Nov 27, 2017 2017-11-27  Cryptocurrency today is similar to the tech bo...   \n",
              "5   Feb 4, 2019 2019-02-04  Investors in QuadrigaCX, Canada's largest cryp...   \n",
              "6  Jun 21, 2019 2019-06-21  Facebook Inc announced plans this week to intr...   \n",
              "7   ct 18, 2019        NaT  China's Cryptocurrency Plan Has a Powerful Par...   \n",
              "8   ar 25, 2017        NaT  A cryptocurrency is a digital currency that is...   \n",
              "9   Aug 3, 2017 2017-08-03  A cryptocurrency is simply a digital or virtua...   \n",
              "\n",
              "                                                link  \\\n",
              "0  https://www.nytimes.com/2019/06/18/technology/...   \n",
              "1  https://www.npr.org/2019/06/18/733809352/faceb...   \n",
              "2  https://www.theguardian.com/technology/2019/ju...   \n",
              "3  https://www.information-age.com/learned-crypto...   \n",
              "4  https://www.forbes.com/sites/apaul/2017/11/27/...   \n",
              "5  https://www.theguardian.com/technology/2019/fe...   \n",
              "6  https://www.reuters.com/article/us-facebook-cr...   \n",
              "7  https://www.nytimes.com/2019/10/18/technology/...   \n",
              "8  https://www.investopedia.com/articles/forex/09...   \n",
              "9  https://www.forbes.com/sites/forbestechcouncil...   \n",
              "\n",
              "                                                 img  \n",
              "0  data:image/gif;base64,R0lGODlhAQABAIAAAP//////...  \n",
              "1  data:image/gif;base64,R0lGODlhAQABAIAAAP//////...  \n",
              "2  data:image/gif;base64,R0lGODlhAQABAIAAAP//////...  \n",
              "3  data:image/gif;base64,R0lGODlhAQABAIAAAP//////...  \n",
              "4  data:image/gif;base64,R0lGODlhAQABAIAAAP//////...  \n",
              "5  data:image/gif;base64,R0lGODlhAQABAIAAAP//////...  \n",
              "6  data:image/gif;base64,R0lGODlhAQABAIAAAP//////...  \n",
              "7  data:image/gif;base64,R0lGODlhAQABAIAAAP//////...  \n",
              "8  data:image/gif;base64,R0lGODlhAQABAIAAAP//////...  \n",
              "9  data:image/gif;base64,R0lGODlhAQABAIAAAP//////...  "
            ],
            "text/html": [
              "\n",
              "  <div id=\"df-d8589a6d-c52c-4901-b63d-ce6eea9f6bbb\">\n",
              "    <div class=\"colab-df-container\">\n",
              "      <div>\n",
              "<style scoped>\n",
              "    .dataframe tbody tr th:only-of-type {\n",
              "        vertical-align: middle;\n",
              "    }\n",
              "\n",
              "    .dataframe tbody tr th {\n",
              "        vertical-align: top;\n",
              "    }\n",
              "\n",
              "    .dataframe thead th {\n",
              "        text-align: right;\n",
              "    }\n",
              "</style>\n",
              "<table border=\"1\" class=\"dataframe\">\n",
              "  <thead>\n",
              "    <tr style=\"text-align: right;\">\n",
              "      <th></th>\n",
              "      <th>title</th>\n",
              "      <th>media</th>\n",
              "      <th>date</th>\n",
              "      <th>datetime</th>\n",
              "      <th>desc</th>\n",
              "      <th>link</th>\n",
              "      <th>img</th>\n",
              "    </tr>\n",
              "  </thead>\n",
              "  <tbody>\n",
              "    <tr>\n",
              "      <th>0</th>\n",
              "      <td>Facebook Plans Global Financial System Based o...</td>\n",
              "      <td>The New York Times</td>\n",
              "      <td>Jun 18, 2019</td>\n",
              "      <td>2019-06-18</td>\n",
              "      <td>The cryptocurrency, called Libra, will also ha...</td>\n",
              "      <td>https://www.nytimes.com/2019/06/18/technology/...</td>\n",
              "      <td>data:image/gif;base64,R0lGODlhAQABAIAAAP//////...</td>\n",
              "    </tr>\n",
              "    <tr>\n",
              "      <th>1</th>\n",
              "      <td>Facebook Announces Plans For Libra, Its Own Cr...</td>\n",
              "      <td>NPR</td>\n",
              "      <td>Jun 18, 2019</td>\n",
              "      <td>2019-06-18</td>\n",
              "      <td>Cryptocurrency is digital money not issued by ...</td>\n",
              "      <td>https://www.npr.org/2019/06/18/733809352/faceb...</td>\n",
              "      <td>data:image/gif;base64,R0lGODlhAQABAIAAAP//////...</td>\n",
              "    </tr>\n",
              "    <tr>\n",
              "      <th>2</th>\n",
              "      <td>Libra: Facebook launches cryptocurrency in bid...</td>\n",
              "      <td>The Guardian</td>\n",
              "      <td>Jun 19, 2019</td>\n",
              "      <td>2019-06-19</td>\n",
              "      <td>In a document outlining how the new cryptocurr...</td>\n",
              "      <td>https://www.theguardian.com/technology/2019/ju...</td>\n",
              "      <td>data:image/gif;base64,R0lGODlhAQABAIAAAP//////...</td>\n",
              "    </tr>\n",
              "    <tr>\n",
              "      <th>3</th>\n",
              "      <td>What was learned from cryptocurrency in 2017 a...</td>\n",
              "      <td>Information Age</td>\n",
              "      <td>an 17, 2018</td>\n",
              "      <td>NaT</td>\n",
              "      <td>1. Blockchain has passed the point of no retur...</td>\n",
              "      <td>https://www.information-age.com/learned-crypto...</td>\n",
              "      <td>data:image/gif;base64,R0lGODlhAQABAIAAAP//////...</td>\n",
              "    </tr>\n",
              "    <tr>\n",
              "      <th>4</th>\n",
              "      <td>It's 1994 In Cryptocurrency</td>\n",
              "      <td>Forbes</td>\n",
              "      <td>Nov 27, 2017</td>\n",
              "      <td>2017-11-27</td>\n",
              "      <td>Cryptocurrency today is similar to the tech bo...</td>\n",
              "      <td>https://www.forbes.com/sites/apaul/2017/11/27/...</td>\n",
              "      <td>data:image/gif;base64,R0lGODlhAQABAIAAAP//////...</td>\n",
              "    </tr>\n",
              "    <tr>\n",
              "      <th>5</th>\n",
              "      <td>Cryptocurrency investors locked out of $190m a...</td>\n",
              "      <td>The Guardian</td>\n",
              "      <td>Feb 4, 2019</td>\n",
              "      <td>2019-02-04</td>\n",
              "      <td>Investors in QuadrigaCX, Canada's largest cryp...</td>\n",
              "      <td>https://www.theguardian.com/technology/2019/fe...</td>\n",
              "      <td>data:image/gif;base64,R0lGODlhAQABAIAAAP//////...</td>\n",
              "    </tr>\n",
              "    <tr>\n",
              "      <th>6</th>\n",
              "      <td>France creates G7 cryptocurrency task force as...</td>\n",
              "      <td>Reuters</td>\n",
              "      <td>Jun 21, 2019</td>\n",
              "      <td>2019-06-21</td>\n",
              "      <td>Facebook Inc announced plans this week to intr...</td>\n",
              "      <td>https://www.reuters.com/article/us-facebook-cr...</td>\n",
              "      <td>data:image/gif;base64,R0lGODlhAQABAIAAAP//////...</td>\n",
              "    </tr>\n",
              "    <tr>\n",
              "      <th>7</th>\n",
              "      <td>China’s Cryptocurrency Plan Has a Powerful Par...</td>\n",
              "      <td>The New York Times</td>\n",
              "      <td>ct 18, 2019</td>\n",
              "      <td>NaT</td>\n",
              "      <td>China's Cryptocurrency Plan Has a Powerful Par...</td>\n",
              "      <td>https://www.nytimes.com/2019/10/18/technology/...</td>\n",
              "      <td>data:image/gif;base64,R0lGODlhAQABAIAAAP//////...</td>\n",
              "    </tr>\n",
              "    <tr>\n",
              "      <th>8</th>\n",
              "      <td>The Future Of Cryptocurrency in 2019 and Beyond</td>\n",
              "      <td>Investopedia</td>\n",
              "      <td>ar 25, 2017</td>\n",
              "      <td>NaT</td>\n",
              "      <td>A cryptocurrency is a digital currency that is...</td>\n",
              "      <td>https://www.investopedia.com/articles/forex/09...</td>\n",
              "      <td>data:image/gif;base64,R0lGODlhAQABAIAAAP//////...</td>\n",
              "    </tr>\n",
              "    <tr>\n",
              "      <th>9</th>\n",
              "      <td>How Cryptocurrencies Are Fueling Ransomware At...</td>\n",
              "      <td>Forbes</td>\n",
              "      <td>Aug 3, 2017</td>\n",
              "      <td>2017-08-03</td>\n",
              "      <td>A cryptocurrency is simply a digital or virtua...</td>\n",
              "      <td>https://www.forbes.com/sites/forbestechcouncil...</td>\n",
              "      <td>data:image/gif;base64,R0lGODlhAQABAIAAAP//////...</td>\n",
              "    </tr>\n",
              "  </tbody>\n",
              "</table>\n",
              "</div>\n",
              "      <button class=\"colab-df-convert\" onclick=\"convertToInteractive('df-d8589a6d-c52c-4901-b63d-ce6eea9f6bbb')\"\n",
              "              title=\"Convert this dataframe to an interactive table.\"\n",
              "              style=\"display:none;\">\n",
              "        \n",
              "  <svg xmlns=\"http://www.w3.org/2000/svg\" height=\"24px\"viewBox=\"0 0 24 24\"\n",
              "       width=\"24px\">\n",
              "    <path d=\"M0 0h24v24H0V0z\" fill=\"none\"/>\n",
              "    <path d=\"M18.56 5.44l.94 2.06.94-2.06 2.06-.94-2.06-.94-.94-2.06-.94 2.06-2.06.94zm-11 1L8.5 8.5l.94-2.06 2.06-.94-2.06-.94L8.5 2.5l-.94 2.06-2.06.94zm10 10l.94 2.06.94-2.06 2.06-.94-2.06-.94-.94-2.06-.94 2.06-2.06.94z\"/><path d=\"M17.41 7.96l-1.37-1.37c-.4-.4-.92-.59-1.43-.59-.52 0-1.04.2-1.43.59L10.3 9.45l-7.72 7.72c-.78.78-.78 2.05 0 2.83L4 21.41c.39.39.9.59 1.41.59.51 0 1.02-.2 1.41-.59l7.78-7.78 2.81-2.81c.8-.78.8-2.07 0-2.86zM5.41 20L4 18.59l7.72-7.72 1.47 1.35L5.41 20z\"/>\n",
              "  </svg>\n",
              "      </button>\n",
              "      \n",
              "  <style>\n",
              "    .colab-df-container {\n",
              "      display:flex;\n",
              "      flex-wrap:wrap;\n",
              "      gap: 12px;\n",
              "    }\n",
              "\n",
              "    .colab-df-convert {\n",
              "      background-color: #E8F0FE;\n",
              "      border: none;\n",
              "      border-radius: 50%;\n",
              "      cursor: pointer;\n",
              "      display: none;\n",
              "      fill: #1967D2;\n",
              "      height: 32px;\n",
              "      padding: 0 0 0 0;\n",
              "      width: 32px;\n",
              "    }\n",
              "\n",
              "    .colab-df-convert:hover {\n",
              "      background-color: #E2EBFA;\n",
              "      box-shadow: 0px 1px 2px rgba(60, 64, 67, 0.3), 0px 1px 3px 1px rgba(60, 64, 67, 0.15);\n",
              "      fill: #174EA6;\n",
              "    }\n",
              "\n",
              "    [theme=dark] .colab-df-convert {\n",
              "      background-color: #3B4455;\n",
              "      fill: #D2E3FC;\n",
              "    }\n",
              "\n",
              "    [theme=dark] .colab-df-convert:hover {\n",
              "      background-color: #434B5C;\n",
              "      box-shadow: 0px 1px 3px 1px rgba(0, 0, 0, 0.15);\n",
              "      filter: drop-shadow(0px 1px 2px rgba(0, 0, 0, 0.3));\n",
              "      fill: #FFFFFF;\n",
              "    }\n",
              "  </style>\n",
              "\n",
              "      <script>\n",
              "        const buttonEl =\n",
              "          document.querySelector('#df-d8589a6d-c52c-4901-b63d-ce6eea9f6bbb button.colab-df-convert');\n",
              "        buttonEl.style.display =\n",
              "          google.colab.kernel.accessAllowed ? 'block' : 'none';\n",
              "\n",
              "        async function convertToInteractive(key) {\n",
              "          const element = document.querySelector('#df-d8589a6d-c52c-4901-b63d-ce6eea9f6bbb');\n",
              "          const dataTable =\n",
              "            await google.colab.kernel.invokeFunction('convertToInteractive',\n",
              "                                                     [key], {});\n",
              "          if (!dataTable) return;\n",
              "\n",
              "          const docLinkHtml = 'Like what you see? Visit the ' +\n",
              "            '<a target=\"_blank\" href=https://colab.research.google.com/notebooks/data_table.ipynb>data table notebook</a>'\n",
              "            + ' to learn more about interactive tables.';\n",
              "          element.innerHTML = '';\n",
              "          dataTable['output_type'] = 'display_data';\n",
              "          await google.colab.output.renderOutput(dataTable, element);\n",
              "          const docLink = document.createElement('div');\n",
              "          docLink.innerHTML = docLinkHtml;\n",
              "          element.appendChild(docLink);\n",
              "        }\n",
              "      </script>\n",
              "    </div>\n",
              "  </div>\n",
              "  "
            ]
          },
          "metadata": {},
          "execution_count": 5
        }
      ]
    },
    {
      "cell_type": "code",
      "source": [
        "df['title'][0]"
      ],
      "metadata": {
        "colab": {
          "base_uri": "https://localhost:8080/",
          "height": 36
        },
        "id": "baQLzdCkoquw",
        "outputId": "ed99b58f-10a3-4bd5-fc47-085efb43fb0c"
      },
      "execution_count": 6,
      "outputs": [
        {
          "output_type": "execute_result",
          "data": {
            "text/plain": [
              "'Facebook Plans Global Financial System Based on Cryptocurrency'"
            ],
            "application/vnd.google.colaboratory.intrinsic+json": {
              "type": "string"
            }
          },
          "metadata": {},
          "execution_count": 6
        }
      ]
    },
    {
      "cell_type": "code",
      "source": [
        "df['desc'][0]"
      ],
      "metadata": {
        "colab": {
          "base_uri": "https://localhost:8080/",
          "height": 53
        },
        "id": "80s6cMIAov4I",
        "outputId": "3a156193-c83e-4044-88e9-5eec01f3b85d"
      },
      "execution_count": 7,
      "outputs": [
        {
          "output_type": "execute_result",
          "data": {
            "text/plain": [
              "'The cryptocurrency, called Libra, will also have to overcome concern that \\nFacebook does not effectively protect the private information of its users \\n— a...'"
            ],
            "application/vnd.google.colaboratory.intrinsic+json": {
              "type": "string"
            }
          },
          "metadata": {},
          "execution_count": 7
        }
      ]
    },
    {
      "cell_type": "code",
      "source": [
        "for i in range(2,110):\n",
        "  try:\n",
        "    googlenews.getpage(i)\n",
        "    result=googlenews.result()\n",
        "    df=pd.DataFrame(result)\n",
        "  except:\n",
        "    break"
      ],
      "metadata": {
        "id": "ST4AiuaV4B5L",
        "colab": {
          "base_uri": "https://localhost:8080/"
        },
        "outputId": "520a3c0a-2913-43a6-a503-0477f19edf10"
      },
      "execution_count": 8,
      "outputs": [
        {
          "output_type": "stream",
          "name": "stdout",
          "text": [
            "'NoneType' object is not iterable\n",
            "'NoneType' object is not iterable\n",
            "'NoneType' object is not iterable\n",
            "'NoneType' object is not iterable\n",
            "'NoneType' object is not iterable\n",
            "'NoneType' object is not iterable\n",
            "'NoneType' object is not iterable\n",
            "'NoneType' object is not iterable\n",
            "'NoneType' object is not iterable\n",
            "'NoneType' object is not iterable\n",
            "'NoneType' object is not iterable\n",
            "'NoneType' object is not iterable\n",
            "'NoneType' object is not iterable\n",
            "'NoneType' object is not iterable\n",
            "'NoneType' object is not iterable\n",
            "'NoneType' object is not iterable\n",
            "'NoneType' object is not iterable\n",
            "'NoneType' object is not iterable\n",
            "'NoneType' object is not iterable\n",
            "'NoneType' object is not iterable\n",
            "'NoneType' object is not iterable\n",
            "'NoneType' object is not iterable\n",
            "'NoneType' object is not iterable\n",
            "'NoneType' object is not iterable\n",
            "'NoneType' object is not iterable\n",
            "'NoneType' object is not iterable\n",
            "'NoneType' object is not iterable\n",
            "'NoneType' object is not iterable\n",
            "'NoneType' object is not iterable\n",
            "'NoneType' object is not iterable\n",
            "'NoneType' object is not iterable\n",
            "'NoneType' object is not iterable\n",
            "'NoneType' object is not iterable\n",
            "'NoneType' object is not iterable\n",
            "'NoneType' object is not iterable\n",
            "'NoneType' object is not iterable\n",
            "'NoneType' object is not iterable\n",
            "'NoneType' object is not iterable\n",
            "'NoneType' object is not iterable\n",
            "'NoneType' object is not iterable\n",
            "'NoneType' object is not iterable\n",
            "'NoneType' object is not iterable\n",
            "'NoneType' object is not iterable\n",
            "'NoneType' object is not iterable\n",
            "'NoneType' object is not iterable\n",
            "'NoneType' object is not iterable\n",
            "'NoneType' object is not iterable\n",
            "'NoneType' object is not iterable\n",
            "'NoneType' object is not iterable\n",
            "'NoneType' object is not iterable\n",
            "'NoneType' object is not iterable\n",
            "'NoneType' object is not iterable\n",
            "'NoneType' object is not iterable\n",
            "'NoneType' object is not iterable\n",
            "'NoneType' object is not iterable\n",
            "'NoneType' object is not iterable\n",
            "'NoneType' object is not iterable\n",
            "'NoneType' object is not iterable\n",
            "'NoneType' object is not iterable\n",
            "'NoneType' object is not iterable\n",
            "'NoneType' object is not iterable\n",
            "'NoneType' object is not iterable\n",
            "'NoneType' object is not iterable\n",
            "'NoneType' object is not iterable\n",
            "'NoneType' object is not iterable\n",
            "'NoneType' object is not iterable\n",
            "'NoneType' object is not iterable\n",
            "'NoneType' object is not iterable\n",
            "'NoneType' object is not iterable\n",
            "'NoneType' object is not iterable\n",
            "'NoneType' object is not iterable\n",
            "'NoneType' object is not iterable\n",
            "'NoneType' object is not iterable\n",
            "'NoneType' object is not iterable\n",
            "'NoneType' object is not iterable\n",
            "'NoneType' object is not iterable\n",
            "'NoneType' object is not iterable\n",
            "'NoneType' object is not iterable\n"
          ]
        }
      ]
    },
    {
      "cell_type": "code",
      "source": [
        "df.to_csv('google_news.csv')"
      ],
      "metadata": {
        "id": "kDS-T_aI4EKS"
      },
      "execution_count": 9,
      "outputs": []
    },
    {
      "cell_type": "code",
      "source": [
        "import re\n",
        "import glob\n",
        "import nltk\n",
        "nltk.download('punkt') \n",
        "nltk.download('stopwords')\n",
        "from nltk.corpus import stopwords\n",
        "from nltk.tokenize import word_tokenize\n",
        "from nltk.stem import PorterStemmer\n",
        "from textblob import TextBlob"
      ],
      "metadata": {
        "colab": {
          "base_uri": "https://localhost:8080/"
        },
        "id": "J7n3_wdpn95n",
        "outputId": "929dce9e-2944-4e2a-86a8-1c79edec63df"
      },
      "execution_count": 10,
      "outputs": [
        {
          "output_type": "stream",
          "name": "stderr",
          "text": [
            "[nltk_data] Downloading package punkt to /root/nltk_data...\n",
            "[nltk_data]   Unzipping tokenizers/punkt.zip.\n",
            "[nltk_data] Downloading package stopwords to /root/nltk_data...\n",
            "[nltk_data]   Unzipping corpora/stopwords.zip.\n"
          ]
        }
      ]
    },
    {
      "cell_type": "code",
      "source": [
        "def cleanText(text):\n",
        "  text = text.lower()\n",
        "  # Removes all mentions (@username) from the tweet since it is of no use to us\n",
        "  text = re.sub(r'(@[A-Za-z0-9_]+)', '', text)\n",
        "    \n",
        "  # Removes any link in the text\n",
        "  text = re.sub('http://\\S+|https://\\S+', '', text)\n",
        "\n",
        "  # Only considers the part of the string with char between a to z or digits and whitespace characters\n",
        "  #  removes punctuation\n",
        "  text = re.sub(r'[^\\w\\s]', '', text)\n",
        "\n",
        "  # Removes stop words that have no use in sentiment analysis \n",
        "  text_tokens = word_tokenize(text)\n",
        "  text = [word for word in text_tokens if not word in stopwords.words()]\n",
        "\n",
        "  text = ' '.join(text)\n",
        "  return text"
      ],
      "metadata": {
        "id": "PBuR2MsIn5Cg"
      },
      "execution_count": 11,
      "outputs": []
    },
    {
      "cell_type": "code",
      "source": [
        "def stem(text):\n",
        "  # This function is used to stem the given sentence\n",
        "  porter = PorterStemmer()\n",
        "  token_words = word_tokenize(text)\n",
        "  stem_sentence = []\n",
        "  for word in token_words:\n",
        "    stem_sentence.append(porter.stem(word))\n",
        "  return \" \".join(stem_sentence)"
      ],
      "metadata": {
        "id": "CZoR0CFsoFMs"
      },
      "execution_count": 12,
      "outputs": []
    },
    {
      "cell_type": "code",
      "source": [
        "def Sentiment(cleaned_text):\n",
        "  # Returns the sentiment based on the polarity of the input TextBlob object\n",
        "  if cleaned_text.sentiment.polarity > 0:\n",
        "    return 'positive'\n",
        "  elif cleaned_text.sentiment.polarity < 0:\n",
        "    return 'negative'\n",
        "  else:\n",
        "    return 'neutral'"
      ],
      "metadata": {
        "id": "tnCkkrZKoJZa"
      },
      "execution_count": 13,
      "outputs": []
    },
    {
      "cell_type": "code",
      "source": [
        "from collections import defaultdict"
      ],
      "metadata": {
        "id": "MrXclpp5oUi5"
      },
      "execution_count": 14,
      "outputs": []
    },
    {
      "cell_type": "code",
      "source": [
        "dic = defaultdict(list)"
      ],
      "metadata": {
        "id": "5EUJiHyaoQ1D"
      },
      "execution_count": 15,
      "outputs": []
    },
    {
      "cell_type": "code",
      "source": [
        "df1 = pd.read_csv('google_news.csv')"
      ],
      "metadata": {
        "id": "wYIoIJ5OnqjW"
      },
      "execution_count": 16,
      "outputs": []
    },
    {
      "cell_type": "code",
      "source": [
        "list1 = list(df1['desc'])"
      ],
      "metadata": {
        "id": "oGdh_jr4odx1"
      },
      "execution_count": 17,
      "outputs": []
    },
    {
      "cell_type": "code",
      "source": [
        "for i in range(len(list1)):\n",
        "  dic['title'].append(df1['title'][i])\n",
        "  news = list1[i]\n",
        "  dic['desc'].append(list1[i])\n",
        "  clean_txt = cleanText(news)\n",
        "  dic['clean_text'].append(clean_txt)\n",
        "  stem_text = TextBlob(stem(clean_txt))\n",
        "  dic['polarity'].append(stem_text.sentiment.polarity)\n",
        "  sentiment = Sentiment(stem_text)\n",
        "  dic['sentiment'].append(sentiment)"
      ],
      "metadata": {
        "id": "94-fKPmkpQzF"
      },
      "execution_count": 18,
      "outputs": []
    },
    {
      "cell_type": "code",
      "source": [
        "myDict = dict(dic)"
      ],
      "metadata": {
        "id": "cSZTbHbRqekK"
      },
      "execution_count": 19,
      "outputs": []
    },
    {
      "cell_type": "code",
      "source": [
        "df = pd.DataFrame.from_dict(myDict)"
      ],
      "metadata": {
        "id": "D9VcgQNfqhhY"
      },
      "execution_count": 20,
      "outputs": []
    },
    {
      "cell_type": "code",
      "source": [
        "df.to_csv('google_news_clean.csv')"
      ],
      "metadata": {
        "id": "BlXJpEgeqkC3"
      },
      "execution_count": 21,
      "outputs": []
    },
    {
      "cell_type": "code",
      "source": [
        "df2 = pd.read_csv('/content/google_news_clean.csv')"
      ],
      "metadata": {
        "id": "vLaR_kztq6gU"
      },
      "execution_count": 22,
      "outputs": []
    },
    {
      "cell_type": "code",
      "source": [
        "df2['sentiment'].head()"
      ],
      "metadata": {
        "colab": {
          "base_uri": "https://localhost:8080/"
        },
        "id": "Zra9nclRrAQF",
        "outputId": "a4fe09a6-15e1-4eb8-ee5b-2703a9c85672"
      },
      "execution_count": 23,
      "outputs": [
        {
          "output_type": "execute_result",
          "data": {
            "text/plain": [
              "0     neutral\n",
              "1    positive\n",
              "2     neutral\n",
              "3     neutral\n",
              "4     neutral\n",
              "Name: sentiment, dtype: object"
            ]
          },
          "metadata": {},
          "execution_count": 23
        }
      ]
    }
  ]
}